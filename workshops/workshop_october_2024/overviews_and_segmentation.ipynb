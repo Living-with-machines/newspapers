{
 "cells": [
  {
   "cell_type": "markdown",
   "metadata": {},
   "source": [
    "# Getting to know the newspaper corpus"
   ]
  },
  {
   "cell_type": "markdown",
   "metadata": {},
   "source": [
    "We'll mainly use `pandas` as a data manipulation tool:"
   ]
  },
  {
   "cell_type": "code",
   "execution_count": 1,
   "metadata": {},
   "outputs": [],
   "source": [
    "import pandas as pd\n",
    "pd.set_option('display.max_colwidth', 50)"
   ]
  },
  {
   "cell_type": "markdown",
   "metadata": {},
   "source": [
    "Import sample of newspapers from CSV file:"
   ]
  },
  {
   "cell_type": "code",
   "execution_count": 2,
   "metadata": {},
   "outputs": [
    {
     "data": {
      "text/html": [
       "<div>\n",
       "<style scoped>\n",
       "    .dataframe tbody tr th:only-of-type {\n",
       "        vertical-align: middle;\n",
       "    }\n",
       "\n",
       "    .dataframe tbody tr th {\n",
       "        vertical-align: top;\n",
       "    }\n",
       "\n",
       "    .dataframe thead th {\n",
       "        text-align: right;\n",
       "    }\n",
       "</style>\n",
       "<table border=\"1\" class=\"dataframe\">\n",
       "  <thead>\n",
       "    <tr style=\"text-align: right;\">\n",
       "      <th></th>\n",
       "      <th>publication_code</th>\n",
       "      <th>issue_id</th>\n",
       "      <th>item_id</th>\n",
       "      <th>newspaper_title</th>\n",
       "      <th>data_provider</th>\n",
       "      <th>date</th>\n",
       "      <th>year</th>\n",
       "      <th>month</th>\n",
       "      <th>day</th>\n",
       "      <th>location</th>\n",
       "      <th>word_count</th>\n",
       "      <th>ocrquality</th>\n",
       "      <th>political_leaning_label</th>\n",
       "      <th>price_label</th>\n",
       "      <th>text</th>\n",
       "    </tr>\n",
       "  </thead>\n",
       "  <tbody>\n",
       "    <tr>\n",
       "      <th>348</th>\n",
       "      <td>3040</td>\n",
       "      <td>1103</td>\n",
       "      <td>art0067</td>\n",
       "      <td>The Birkenhead News and Wirral General Adverti...</td>\n",
       "      <td>British Library Living with Machines Project</td>\n",
       "      <td>1909-11-03</td>\n",
       "      <td>1909</td>\n",
       "      <td>11</td>\n",
       "      <td>3</td>\n",
       "      <td>Birkenhead, Merseyside, England</td>\n",
       "      <td>704</td>\n",
       "      <td>0.8975</td>\n",
       "      <td>conservative</td>\n",
       "      <td>½ d&lt;SEP&gt;1d</td>\n",
       "      <td>TO-MORROW'S eIKTURES AND REFEREES.  Bock Perry...</td>\n",
       "    </tr>\n",
       "    <tr>\n",
       "      <th>117</th>\n",
       "      <td>3040</td>\n",
       "      <td>728</td>\n",
       "      <td>art0109</td>\n",
       "      <td>The Birkenhead News and Wirral General Adverti...</td>\n",
       "      <td>British Library Living with Machines Project</td>\n",
       "      <td>1900-07-28</td>\n",
       "      <td>1900</td>\n",
       "      <td>7</td>\n",
       "      <td>28</td>\n",
       "      <td>Birkenhead, Merseyside, England</td>\n",
       "      <td>970</td>\n",
       "      <td>0.9591</td>\n",
       "      <td>independent; conservative</td>\n",
       "      <td>½ d&lt;SEP&gt;1d</td>\n",
       "      <td>TO TEI EDITOR OE TEE DIRRICKERLD NEW.  Si,—Yoa...</td>\n",
       "    </tr>\n",
       "    <tr>\n",
       "      <th>170</th>\n",
       "      <td>3060</td>\n",
       "      <td>322</td>\n",
       "      <td>art0007</td>\n",
       "      <td>Bridport, Beaminster, and Lyme Regis Telegram ...</td>\n",
       "      <td>British Library Living with Machines Project</td>\n",
       "      <td>1878-03-22</td>\n",
       "      <td>1878</td>\n",
       "      <td>3</td>\n",
       "      <td>22</td>\n",
       "      <td>Bridport, Dorset, England</td>\n",
       "      <td>109</td>\n",
       "      <td>0.9734</td>\n",
       "      <td>neutral</td>\n",
       "      <td>1d</td>\n",
       "      <td>UNFURNISHED HOUSES.  No. 1, Marine-terrace, ne...</td>\n",
       "    </tr>\n",
       "  </tbody>\n",
       "</table>\n",
       "</div>"
      ],
      "text/plain": [
       "     publication_code  issue_id  item_id  \\\n",
       "348              3040      1103  art0067   \n",
       "117              3040       728  art0109   \n",
       "170              3060       322  art0007   \n",
       "\n",
       "                                       newspaper_title  \\\n",
       "348  The Birkenhead News and Wirral General Adverti...   \n",
       "117  The Birkenhead News and Wirral General Adverti...   \n",
       "170  Bridport, Beaminster, and Lyme Regis Telegram ...   \n",
       "\n",
       "                                    data_provider        date  year  month  \\\n",
       "348  British Library Living with Machines Project  1909-11-03  1909     11   \n",
       "117  British Library Living with Machines Project  1900-07-28  1900      7   \n",
       "170  British Library Living with Machines Project  1878-03-22  1878      3   \n",
       "\n",
       "     day                         location  word_count  ocrquality  \\\n",
       "348    3  Birkenhead, Merseyside, England         704      0.8975   \n",
       "117   28  Birkenhead, Merseyside, England         970      0.9591   \n",
       "170   22        Bridport, Dorset, England         109      0.9734   \n",
       "\n",
       "       political_leaning_label price_label  \\\n",
       "348               conservative  ½ d<SEP>1d   \n",
       "117  independent; conservative  ½ d<SEP>1d   \n",
       "170                    neutral          1d   \n",
       "\n",
       "                                                  text  \n",
       "348  TO-MORROW'S eIKTURES AND REFEREES.  Bock Perry...  \n",
       "117  TO TEI EDITOR OE TEE DIRRICKERLD NEW.  Si,—Yoa...  \n",
       "170  UNFURNISHED HOUSES.  No. 1, Marine-terrace, ne...  "
      ]
     },
     "execution_count": 2,
     "metadata": {},
     "output_type": "execute_result"
    }
   ],
   "source": [
    "df_path = \"data/subsample500mixedocr-selected_mitch.csv\"\n",
    "df = pd.read_csv(df_path)\n",
    "df.sample(3)"
   ]
  },
  {
   "cell_type": "markdown",
   "metadata": {},
   "source": [
    "## General overviews\n",
    "\n",
    "Here, we'll work with a random, small sample, but this can be scaled up.\n",
    "\n",
    "\n",
    "### Titles\n",
    "> The idea is to create an overview like [this one](https://livingwithmachines.ac.uk/public-domain-newspaper-titles-in-living-with-machines/).\n",
    "\n",
    "We'll first look at **which** and **how many** titles are present in the sample.\n",
    "\n",
    "⚠️ We are using the _non-normalized_ form in which the title appears in the digitized collections. What this means is:\n",
    "1) There will be all sorts of **end-of-string punctuation** which you normally don't find in a normalized newspaper title, e.g. full stops, colons (preceded by a space, e.g. \"The Potteries Examiner : \"), etc.\n",
    "2) Even the **slightest variation** in the way a title is presented in the metadata (e.g. an extra space or full stop at the end at the end, a capitalized word, etc.) will cause the string variations to be counted as two titles, even though they should be considered one. \n",
    "3) Some newspapers have **changed title** more or less drastically (i.e. not just a punctuation mark) throughout the years. \n",
    "\n",
    "E.g. the following are all variation of the title \"Penistone, Stocksbridge and Hoyland Express\":\n",
    "- \"Penistone, Stocksbridge and Hoyland Express, etc.\"\n",
    "- \"Penistone, Stocksbridge, Hoyland and Ecclesfield & Chapeltown Express.\"\n",
    "- \"Penistone, Stocksbridge, Hoyland & Chapeltown Express, etc.\"\n",
    "\n",
    "Or, more drastically, the following are all variations of \"The Northern Weekly Gazette\":\n",
    "- \"Northern Weekly Gazette.\",\n",
    "- \"The North-Eastern Weekly Gazette.\",\n",
    "- \"The Middlesbrough Gazette and General Advertiser.\",\n",
    "- \"Middlesbrough & Stockton Gazette and General Advertiser.\",\n",
    "- \"Stockton Gazette and Middlesbrough Times.\",\n",
    "- \"Middlesbro' & Stockton Gazette and General Advertiser.\",\n",
    "- \"The Weekly Gazette for Middlesbrough, Stockton, Hartlepool and Cleveland District.\""
   ]
  },
  {
   "cell_type": "markdown",
   "metadata": {},
   "source": [
    "⏭️ Let's have look at how many titles are represented in our sample:"
   ]
  },
  {
   "cell_type": "code",
   "execution_count": 3,
   "metadata": {},
   "outputs": [
    {
     "name": "stdout",
     "output_type": "stream",
     "text": [
      "Unique Newspaper Titles: 73\n",
      "\n",
      "Alston Herald, and East Cumberland Advertiser.\n",
      "Bargoed Journal.\n",
      "Barnsley Telephone.\n",
      "Beverley and East Riding Telegraph.\n",
      "Blandford, Wimborne and Poole Telegram.\n",
      "Bridgend & Neath Chronicle, and County of Glamorgan Advertiser.\n",
      "Bridgend Chronicle, Cowbridge, Llantrisant, and Maesteg Advertiser.\n",
      "Bridlington and Quay Gazette.\n",
      "Bridport, Beaminster, and Lyme Regis Telegram and Dorset, Somerset, and Devon Advertiser.\n",
      "Brighouse & Rastrick Gazette.\n",
      "Brighouse Gazette and Local Railway Guide.\n",
      "Darlington & Richmond Herald.\n",
      "Denton & Haughton Weekly News, and Audenshaw, Hooley Hill, and Dukinfield Advertiser.\n",
      "Denton Examiner, Audenshaw, Hooley Hill and Dukinfield Advertiser.\n",
      "Denton and Haughton Examiner, etc.\n",
      "Glasgow Courier.\n",
      "Irvine Express and North Ayrshire Post.\n",
      "Irvine Express.\n",
      "Lancaster Standard and County Advertiser.\n",
      "Liverpool Weekly Courier.\n",
      "Middlesbro' & Stockton Gazette and General Advertiser.\n",
      "Middlesbrough & Stockton Gazette and General Advertiser.\n",
      "Nantwich, Sandbach & Crewe Star\n",
      "Nelson Chronicle, Colne Observer, and Clitheroe Division News.\n",
      "Northern Weekly Gazette.\n",
      "Penistone, Stocksbridge and Hoyland Express, etc.\n",
      "Penistone, Stocksbridge, Hoyland & Chapeltown Express, etc.\n",
      "Runcorn and Widnes Examiner.\n",
      "Stockton Herald, South Durham and Cleveland Advertiser.\n",
      "Swansea and Glamorgan Herald, and South Wales Free Press.\n",
      "The Atherstone, Nuneaton, and Warwickshire Times.\n",
      "The Barrow Herald and Furness Advertiser.\n",
      "The Bee-Hive.\n",
      "The Birkenhead News and Wirral General Advertiser.\n",
      "The Blackpool Herald.\n",
      "The Blandford and Wimbourne Telegram.\n",
      "The Cannock Chase Examiner.\n",
      "The Central Glamorgan Gazette, and General, Commercial, and Agricultural Advertiser.\n",
      "The Cotton Factory Times.\n",
      "The Darlington & Stockton Telegraph, Richmond Herald, South Durham and North York Review.\n",
      "The Dewsbury Chronicle, and West Riding Advertiser.\n",
      "The Dorset County Express and Agricultural Gazette.\n",
      "The Forest of Dean Examiner :\n",
      "The Glasgow Chronicle.\n",
      "The Halifax Comet.\n",
      "The Haslingden Gazette.\n",
      "The Herald of Wales and Monmouthshire Recorder.\n",
      "The Herald of Wales.\n",
      "The Industrial Review, Social and Political.\n",
      "The Kenilworth Advertiser.\n",
      "The North Cumberland Reformer.\n",
      "The North-Eastern Weekly Gazette.\n",
      "The Northern Guardian.\n",
      "The Northern News.\n",
      "The Observer, Cradley Heath, Halesowen & District Chronicle.\n",
      "The Pontypridd District Herald and Rhondda Valley, Llantrisant, Caerphilly, and Mountain Ash News.\n",
      "The Poole Telegram.\n",
      "The Potteries Examiner :\n",
      "The Shropshire Examiner and all round the Wrekin advertiser.\n",
      "The Slaithwaite Guardian and Colne Valley News.\n",
      "The Staffordshire and Potteries Examiner.\n",
      "The Stockton Examiner, and South Durham and North Yorkshire Herald.\n",
      "The Stourbridge Observer, Cradley Heath, Halesowen & District Chronicle.\n",
      "The Tamworth Examiner and Working Men's Journal.\n",
      "The Telegram.\n",
      "The Warrington & Mid-Cheshire Examiner.\n",
      "The Warrington Examiner.\n",
      "The Warwickshire Herald.\n",
      "The Weekly Journal.\n",
      "The Weymouth, Portland and Dorchester Telegram.\n",
      "The Wolverhampton and Midland Counties Advertiser.\n",
      "Weekly News.\n",
      "Widnes Examiner.\n"
     ]
    }
   ],
   "source": [
    "# Get unique newspaper titles\n",
    "unique_titles = df['newspaper_title'].unique()\n",
    "print(f\"Unique Newspaper Titles: {len(unique_titles)}\\n\")\n",
    "print('\\n'.join(sorted(unique_titles)))"
   ]
  },
  {
   "cell_type": "markdown",
   "metadata": {},
   "source": [
    "### Normalize titles (aka: Add bespoke variables based on other variables)"
   ]
  },
  {
   "cell_type": "markdown",
   "metadata": {},
   "source": [
    "When preparing a research sample, you'll often need to add bespoke variables based on other variables. For instance, you may not need fine-grained information about places of publication, but you may be more interested in, say, higher-level geographical or geo-political regions. Similarly, you may want to normalize the title variants (as noted above) by mapping them to one 'normalized' title. Thi is the example we'll be looking at."
   ]
  },
  {
   "cell_type": "markdown",
   "metadata": {},
   "source": [
    "This type of data enrichment (which may simply be considered as 'cleaning' by some), can be done via Python `dict`ionaries, which map values currently found in your data to the bespoke value you want to assign. The first value is called a dictionary _key_, the second value is simply the _value_. Keys need to be unique throughout the dictionary, values can be repeated. You can have as many key-value pairs as needed. The format is the following:"
   ]
  },
  {
   "cell_type": "markdown",
   "metadata": {},
   "source": [
    "```\n",
    "arbitrary_dict_name = {\n",
    "    key1 : value1,\n",
    "    key2 : value2,\n",
    "    key3 : value1\n",
    "}\n",
    "```"
   ]
  },
  {
   "cell_type": "markdown",
   "metadata": {},
   "source": [
    "You can then change the values in a dataframe column corresponding to any of the keys in your dictionary to the respective value. In pandas you simply add `.map(arbitrary_dict_name)` to the column, e.g. `df['newspaper_title_normalized'] = df['newspaper_title'].map(arbitrary_dict_name)`."
   ]
  },
  {
   "cell_type": "markdown",
   "metadata": {},
   "source": [
    "We have already created a dictionary mapping title variants across time to their normalized or unifying form. This was done manually by consulting the [British Newspaper Archive](https://www.britishnewspaperarchive.co.uk/titles/) 'Titles' page. The entry for a title would look like this:"
   ]
  },
  {
   "cell_type": "markdown",
   "metadata": {},
   "source": [
    "<img src=\"figures/northern_weekly_gazette.png\" alt=\"optional description\" width=\"400\"/>"
   ]
  },
  {
   "cell_type": "markdown",
   "metadata": {},
   "source": [
    "Where we can see the newspaper normalized under the unifying title 'Northern Weekly Gazette' changed its name multiple times throughout the years. Each of the title variants will be a key in our dictionary and for all of them the value will be 'Northern Weekly Gazette'."
   ]
  },
  {
   "cell_type": "markdown",
   "metadata": {},
   "source": [
    "This was the resulting mapping (NB: this contains way more titles that in the subsample we are using):"
   ]
  },
  {
   "cell_type": "code",
   "execution_count": 4,
   "metadata": {},
   "outputs": [],
   "source": [
    "normalizedtitles = {\"The Sun.\": \"The Sun\",\n",
    " \"The Express.\": \"The Express\",\n",
    " \"The Birkenhead News and Wirral General Advertiser.\": \"Birkenhead News\",\n",
    " \"The Liverpool Standard and General Commercial Advertiser.\": \"The Liverpool Standard\",\n",
    " \"The Liverpool Standard, and General Advertiser.\": \"The Liverpool Standard\",\n",
    " \"Widnes Examiner.\": \"Widnes Examiner\",\n",
    " \"The Cotton Factory Times.\": \"The Cotton Factory Times\",\n",
    " \"Glasgow Courier.\": \"Glasgow Courier\",\n",
    " \"The British Press; or, Morning Literary Advertiser.\": \"The British Press\",\n",
    " \"Swansea and Glamorgan Herald, and South Wales Free Press.\": \"The Swansea and Glamorgan Herald\",\n",
    " \"Northern Weekly Gazette.\": \"Northern Weekly Gazette\",\n",
    " \"The North-Eastern Weekly Gazette.\": \"Northern Weekly Gazette\",\n",
    " \"The Middlesbrough Gazette and General Advertiser.\": \"Northern Weekly Gazette\",\n",
    " \"Middlesbro & Stockton Gazette and General Advertiser.\": \"Northern Weekly Gazette\",\n",
    " \"Middlesbrough & Stockton Gazette and General Advertiser.\": \"Northern Weekly Gazette\",\n",
    " \"Stockton Gazette and Middlesbrough Times.\": \"Northern Weekly Gazette\",\n",
    " \"The Weekly Gazette for Middlesbrough, Stockton, Hartlepool and Cleveland District\": \"Northern Weekly Gazette\",\n",
    " \"The Dorset County Express and Agricultural Gazette.\": \"The Dorset County Express and Agricultural Gazette\",\n",
    " \"Stockton Herald, South Durham and Cleveland Advertiser.\": \"Stockton Herald, South Durham and Cleveland Advertiser\",\n",
    " \"The Haslingden Gazette.\": \"The Haslingden Gazette\",\n",
    " \"The Central Glamorgan Gazette, and General, Commercial, and Agricultural Advertiser.\": \"The Central Glamorgan Gazette\",\n",
    " \"The Northern Guardian.\": \"The Northern Guardian\",\n",
    " \"The Blackpool Herald.\": \"Blackpool Gazette & Herald\",\n",
    " \"Blackpool Herald and Fylde Advertiser.\": \"Blackpool Gazette & Herald\",\n",
    " \"The Stourbridge Observer, Cradley Heath, Halesowen & District Chronicle.\": \"Cradley Heath & Stourbridge Observer\",\n",
    " \"Cradley Heath & Stourbridge Observer.\": \"Cradley Heath & Stourbridge Observer\",\n",
    " \"The Observer, Cradley Heath, Halesowen & District Chronicle\": \"Cradley Heath & Stourbridge Observer\",\n",
    " \"Penistone, Stocksbridge and Hoyland Express, etc.\": \"Penistone, Stocksbridge and Hoyland Express\",\n",
    " \"Penistone, Stocksbridge, Hoyland and Ecclesfield & Chapeltown Express.\": \"Penistone, Stocksbridge and Hoyland Express\",\n",
    " \"Penistone, Stocksbridge, Hoyland & Chapeltown Express, etc.\": \"Penistone, Stocksbridge and Hoyland Express\",\n",
    " \"The Telegram.\": \"Weymouth Telegram\",\n",
    " \"The Weymouth, Portland and Dorchester Telegram\": \"Weymouth Telegram\",\n",
    " \"Denton and Haughton Examiner, etc.\": \"Denton and Haughton Examiner\",\n",
    " \"Denton Examiner, Audenshaw, Hooley Hill and Dukinfield Advertiser.\": \"Denton and Haughton Examiner\",\n",
    " \"Denton & Haughton Weekly News, and Audenshaw, Hooley Hill, and Dukinfield Advertiser.\": \"Denton and Haughton Examiner\",\n",
    " \"The Denton, Haughton, & District Weekly News.\": \"Denton and Haughton Examiner\",\n",
    " \"The Warwickshire Herald.\": \"Warwickshire Herald\",\n",
    " \"Nelson Chronicle, Colne Observer, and Clitheroe Division News.\": \"Nelson Chronicle, Colne Observer, and Clitheroe Division News\",\n",
    " \"The Daily Times.\": \"The Northern Daily Times\",\n",
    " \"Northern Times\": \"The Northern Daily Times\",\n",
    " \"The Northern Daily Times.\": \"The Northern Daily Times\",\n",
    " \"The Barrow Herald and Furness Advertiser.\": \"Barrow Herald and Furness Advertiser\",\n",
    " \"Blandford, Wimborne and Poole Telegram.\": \"The Blandford and Wimborne Telegram\",\n",
    " \"The Blandford and Wimbourne Telegram.\": \"The Blandford and Wimborne Telegram\",\n",
    " \"Bridlington and Quay Gazette.\": \"Bridlington and Quay Gazette\",\n",
    " \"Brighouse & Rastrick Gazette.\": \"Brighouse & Rastrick Gazette\",\n",
    " \"Brighouse Gazette and Local Railway Guide.\": \"Brighouse & Rastrick Gazette\",\n",
    " \"The Herald of Wales and Monmouthshire Recorder.\": \"The Herald of Wales\",\n",
    " \"The Herald of Wales.\": \"The Herald of Wales\",\n",
    " \"Bridport, Beaminster, and Lyme Regis Telegram and Dorset, Somerset, and Devon Advertiser.\": \"Bridport, Beaminster, and Lyme Regis Telegram\",\n",
    " \"The Atherstone, Nuneaton, and Warwickshire Times.\": \"The Atherstone, Nuneaton, and Warwickshire Times\",\n",
    " \"The Potteries Examiner :\": \"The Potteries Examiner\",\n",
    " \"The Staffordshire and Potteries Examiner.\": \"The Potteries Examiner\",\n",
    " \"Star.\": \"The Star\",\n",
    " \"The Kenilworth Advertiser.\": \"The Kenilworth Advertiser\",\n",
    " \"Lancaster Standard and County Advertiser.\": \"Lancaster Standard and County Advertiser\",\n",
    " \"The Dewsbury Chronicle, and West Riding Advertiser.\": \"Dewsbury Chronicle and West Riding Advertiser\",\n",
    " \"The Warrington & Mid-Cheshire Examiner.\": \"The Warrington Examiner\",\n",
    " \"The Warrington Examiner.\": \"The Warrington Examiner\",\n",
    " \"The Poole Telegram.\": \"The Poole Telegram\",\n",
    " \"Runcorn Examiner.\": \"Runcorn Examiner\",\n",
    " \"Runcorn and Widnes Examiner.\": \"Runcorn Examiner\",\n",
    " \"The Press.\": \"The Press\",\n",
    " \"Bridgend & Neath Chronicle, and County of Glamorgan Advertiser.\": \"Bridgend Chronicle, Cowbridge, Llantrisant, and Maesteg Advertiser\",\n",
    " \"Bridgend Chronicle, Cowbridge, Llantrisant, and Maesteg Advertiser.\": \"Bridgend Chronicle, Cowbridge, Llantrisant, and Maesteg Advertiser\",\n",
    " \"The Bee-Hive :\": \"The Bee-Hive\",\n",
    " \"The Bee-Hive.\": \"The Bee-Hive\",\n",
    " \"The Penny Bee-Hive.\": \"The Bee-Hive\",\n",
    " \"The Pontypridd District Herald and Rhondda Valley, Llantrisant, Caerphilly, and Mountain Ash News.\": \"The Pontypridd District Herald\",\n",
    " \"Irvine Express and North Ayrshire Post.\": \"Irvine Express\",\n",
    " \"Irvine Express.\": \"Irvine Express\",\n",
    " \"Weekly News.\": \"Weekly News\",\n",
    " \"The Glasgow Chronicle.\": \"The Glasgow Chronicle\",\n",
    " \"The Slaithwaite Guardian and Colne Valley News.\": \"Colne Valley Guardian\",\n",
    " \"The North Cumberland Reformer.\": \"The North Cumberland Reformer\",\n",
    " \"The Shropshire Examiner and all round the Wrekin advertiser.\": \"The Shropshire Examiner\",\n",
    " \"The Cannock Chase Examiner.\": \"The Cannock Chase Examiner\",\n",
    " \"The Weekly Journal.\": \"The Weekly Journal\",\n",
    " \"The Manchester Examiner.\": \"The Manchester Examiner\",\n",
    " \"Bargoed Journal.\": \"Bargoed Journal\",\n",
    " \"New Tredegar, Bargoed & Caerphilly Journal.\": \"Bargoed Journal\",\n",
    " \"The Halifax Comet.\": \"The Halifax Comet\",\n",
    " \"The Forest of Dean Examiner :\": \"The Forest of Dean Examiner\",\n",
    " \"The Tamworth Examiner and Working Mens Journal.\": \"The Tamworth Miners' Examiner and Working Men's Journal\",\n",
    " \"The Tamworth Miners Examiner and Working Mens Journal.\": \"The Tamworth Miners' Examiner and Working Men's Journal\",\n",
    " \"Alston Herald, and East Cumberland Advertiser.\": \"Alston Herald and East Cumberland Advertiser\",\n",
    " \"Darlington & Richmond Herald.\": \"Darlington & Richmond Herald\",\n",
    " \"The Darlington & Stockton Telegraph, Richmond Herald, South Durham and North York Review.\": \"Darlington & Richmond Herald\",\n",
    " \"Beverley and East Riding Telegraph.\": \"The East Riding Telegraph\",\n",
    " \"The East Riding Telegraph.\": \"The East Riding Telegraph\",\n",
    " \"Blandford Weekly News.\": \"Blandford Weekly News\",\n",
    " \"The Miner and Workmans Advocate.\": \"British Miner and General Newsman\",\n",
    " \"The Commonwealth.\": \"British Miner and General Newsman\",\n",
    " \"The Workmans Advocate\": \"British Miner and General Newsman\",\n",
    " \"The Miner\": \"British Miner and General Newsman\",\n",
    " \"British Miner and General Newsman\": \"British Miner and General Newsman\",\n",
    " \"The Northern News.\": \"The Northern News\",\n",
    " \"Nantwich, Sandbach & Crewe Star\": \"Nantwich, Sandbach & Crewe Star\",\n",
    " \"The Lancaster Herald, and Town and County Advertiser.\": \"Lancaster Herald and Town and County Advertiser\",\n",
    " \"The Wolverhampton and Midland Counties Advertiser.\": \"The Midland examiner and Wolverhampton times\",\n",
    " \"The Midland Examiner and Wolverhampton Times.\": \"The Midland examiner and Wolverhampton times\",\n",
    " \"The Midland Examiner and Times.\": \"The Midland examiner and Wolverhampton times\",\n",
    " \"The Wolverhampton Times and Bilston, Willenhall, Wednesfield, and Sedgley Journal.\": \"The Midland examiner and Wolverhampton times\",\n",
    " \"Liverpool Weekly Courier.\": \"Liverpool Weekly Courier\",\n",
    " \"The St. Helens Examiner, and Prescot Weekly News.\": \"St. Helens Examiner\",\n",
    " \"The Stockton Examiner, and South Durham and North Yorkshire Herald.\": \"Stockton Examiner and South Durham and North Yorkshire Herald\",\n",
    " \"The Stockton & Thornaby Herald and South Durham Advertiser\": \"Stockton Examiner and South Durham and North Yorkshire Herald\",\n",
    " \"The Industrial Review, Social and Political.\": \"The Industrial Review, Social and Political\",\n",
    " \"Swansea Journal and South Wales Liberal.\": \"Swansea Journal and South Wales Liberal\",\n",
    " \"The Atherstone Times.\": \"The Atherstone Times.\",\n",
    " \"The South Staffordshire Examiner.\": \"The South Staffordshire Examiner\",\n",
    " \"The National Register.\": \"The National Register\",\n",
    " \"The Nuneaton Times.\": \"The Nuneaton Times\",\n",
    " \"The Statesman.\": \"The Statesman\",\n",
    " \"Stretford and Urmston Examiner.\": \"Stretford and Urmston Examiner\",\n",
    " \"Stalybridge Examiner, and Ashton, Dukinfield and Mossley Advertiser.\": \"Stalybridge Examiner\",\n",
    " \"Halifax Local Opinion.\": \"Halifax Local Opinion\",\n",
    " \"The Ripon Observer.\": \"The Ripon Observer\",\n",
    " \"Barnsley Telephone.\": \"Barnsley Telephone\",\n",
    " \"Colored News.\": \"Colored News\",\n",
    "\"Middlesbro' & Stockton Gazette and General Advertiser.\": \"Northern Weekly Gazette\",\n",
    "\"The Weekly Gazette for Middlesbrough, Stockton, Hartlepool and Cleveland District.\": \"Northern Weekly Gazette\",\n",
    "\"The Miner and Workman's Advocate.\": \"British Miner and General Newsman\",\n",
    "\"The Tamworth Examiner and Working Men's Journal.\": \"Tamworth Miners' Examiner and Working Men's Journal\",\n",
    "\"The Tamworth Miners' Examiner and Working Men's Journal.\": \"Tamworth Miners' Examiner and Working Men's Journal\",\n",
    "\"The Weymouth, Portland and Dorchester Telegram.\": \"Weymouth Telegram\",\n",
    "\"The Workman's Advocate.\": \"The Workman's Advocate\"}"
   ]
  },
  {
   "cell_type": "markdown",
   "metadata": {},
   "source": [
    "Let's remind ourselves of how many unique titles we have pre-normalization:"
   ]
  },
  {
   "cell_type": "code",
   "execution_count": 5,
   "metadata": {},
   "outputs": [
    {
     "data": {
      "text/plain": [
       "73"
      ]
     },
     "execution_count": 5,
     "metadata": {},
     "output_type": "execute_result"
    }
   ],
   "source": [
    "len(unique_titles)"
   ]
  },
  {
   "cell_type": "markdown",
   "metadata": {},
   "source": [
    "And let's now normalize the title and add a column with the normalized titles (while keeping the unnormalized one too):"
   ]
  },
  {
   "cell_type": "code",
   "execution_count": 6,
   "metadata": {},
   "outputs": [],
   "source": [
    "df['title_clean'] = df['newspaper_title'].map(normalizedtitles)"
   ]
  },
  {
   "cell_type": "markdown",
   "metadata": {},
   "source": [
    "After normalizing the titles, we see that several titles were conflated:"
   ]
  },
  {
   "cell_type": "code",
   "execution_count": 7,
   "metadata": {},
   "outputs": [
    {
     "data": {
      "text/plain": [
       "57"
      ]
     },
     "execution_count": 7,
     "metadata": {},
     "output_type": "execute_result"
    }
   ],
   "source": [
    "len(df['title_clean'].value_counts())"
   ]
  },
  {
   "cell_type": "markdown",
   "metadata": {},
   "source": [
    "Now that you have clean versions of the titles, you may want to create an overview of your dataset based on them, including info like number of words per title, temporal coverage, etc., similarly to what was done in [this blog post](https://livingwithmachines.ac.uk/public-domain-newspaper-titles-in-living-with-machines/)."
   ]
  },
  {
   "cell_type": "markdown",
   "metadata": {},
   "source": [
    "### Word counts"
   ]
  },
  {
   "cell_type": "markdown",
   "metadata": {},
   "source": [
    "⏭️ Check the size of the dataset. Generally, one way of giving an idea of this is in terms of **number of words**. \n",
    "\n",
    "A crude way to check the total number of \"words\" is by splitting all the text at any whitespace character (spaces (`\\s`), newlines (`\\n`), and tabs (`\\t`)) and counting how many units we got as a result.\n",
    "\n",
    "Note: because of huge differences in OCR quality from text to text, this method will often not be precise."
   ]
  },
  {
   "cell_type": "code",
   "execution_count": 8,
   "metadata": {},
   "outputs": [
    {
     "name": "stdout",
     "output_type": "stream",
     "text": [
      "Total Word Count: 257684\n"
     ]
    }
   ],
   "source": [
    "# Calculate total word count from text column\n",
    "# split() means 'split at any whitepoint character'. \n",
    "# You could specify a whitespace instead, e.g. '\\s', which would exclude tabs and newlines.\n",
    "total_word_count = df['text'].apply(lambda x: len(str(x).split())).sum() \n",
    "print(f\"Total Word Count: {total_word_count}\")"
   ]
  },
  {
   "cell_type": "markdown",
   "metadata": {},
   "source": [
    "⏭️ We can add a column to our text sample, detailing how many words each 'item' (i.e. roughly 'article') has. \n",
    "\n",
    "> ⚠️ **Note**: a word count is included in the newspaper matadata for our collections, but this gives you more control if you want to add a rule of your choosing, e.g. if you know of regularities in OCR errors and want to keep those into account."
   ]
  },
  {
   "cell_type": "code",
   "execution_count": 9,
   "metadata": {},
   "outputs": [],
   "source": [
    "df['word_count'] = [len(x.split(' ')) for x in df['text'].astype(str)]"
   ]
  },
  {
   "cell_type": "markdown",
   "metadata": {},
   "source": [
    "This way we can check how many words each title has represented in our dataset, or check the title with the highest number of words:"
   ]
  },
  {
   "cell_type": "code",
   "execution_count": 10,
   "metadata": {},
   "outputs": [
    {
     "data": {
      "text/html": [
       "<div>\n",
       "<style scoped>\n",
       "    .dataframe tbody tr th:only-of-type {\n",
       "        vertical-align: middle;\n",
       "    }\n",
       "\n",
       "    .dataframe tbody tr th {\n",
       "        vertical-align: top;\n",
       "    }\n",
       "\n",
       "    .dataframe thead th {\n",
       "        text-align: right;\n",
       "    }\n",
       "</style>\n",
       "<table border=\"1\" class=\"dataframe\">\n",
       "  <thead>\n",
       "    <tr style=\"text-align: right;\">\n",
       "      <th></th>\n",
       "      <th>title_clean</th>\n",
       "      <th>total_words</th>\n",
       "    </tr>\n",
       "  </thead>\n",
       "  <tbody>\n",
       "    <tr>\n",
       "      <th>4</th>\n",
       "      <td>Birkenhead News</td>\n",
       "      <td>31818</td>\n",
       "    </tr>\n",
       "    <tr>\n",
       "      <th>32</th>\n",
       "      <td>The Cotton Factory Times</td>\n",
       "      <td>19868</td>\n",
       "    </tr>\n",
       "    <tr>\n",
       "      <th>56</th>\n",
       "      <td>Widnes Examiner</td>\n",
       "      <td>14131</td>\n",
       "    </tr>\n",
       "    <tr>\n",
       "      <th>13</th>\n",
       "      <td>Denton and Haughton Examiner</td>\n",
       "      <td>13169</td>\n",
       "    </tr>\n",
       "    <tr>\n",
       "      <th>33</th>\n",
       "      <td>The Dorset County Express and Agricultural Gaz...</td>\n",
       "      <td>11888</td>\n",
       "    </tr>\n",
       "    <tr>\n",
       "      <th>8</th>\n",
       "      <td>Bridport, Beaminster, and Lyme Regis Telegram</td>\n",
       "      <td>11274</td>\n",
       "    </tr>\n",
       "    <tr>\n",
       "      <th>55</th>\n",
       "      <td>Weymouth Telegram</td>\n",
       "      <td>10071</td>\n",
       "    </tr>\n",
       "    <tr>\n",
       "      <th>21</th>\n",
       "      <td>Northern Weekly Gazette</td>\n",
       "      <td>9807</td>\n",
       "    </tr>\n",
       "    <tr>\n",
       "      <th>25</th>\n",
       "      <td>Stockton Herald, South Durham and Cleveland Ad...</td>\n",
       "      <td>9581</td>\n",
       "    </tr>\n",
       "    <tr>\n",
       "      <th>15</th>\n",
       "      <td>Glasgow Courier</td>\n",
       "      <td>9558</td>\n",
       "    </tr>\n",
       "    <tr>\n",
       "      <th>38</th>\n",
       "      <td>The Haslingden Gazette</td>\n",
       "      <td>9436</td>\n",
       "    </tr>\n",
       "    <tr>\n",
       "      <th>29</th>\n",
       "      <td>The Blandford and Wimborne Telegram</td>\n",
       "      <td>8319</td>\n",
       "    </tr>\n",
       "    <tr>\n",
       "      <th>5</th>\n",
       "      <td>Blackpool Gazette &amp; Herald</td>\n",
       "      <td>8201</td>\n",
       "    </tr>\n",
       "    <tr>\n",
       "      <th>50</th>\n",
       "      <td>The Swansea and Glamorgan Herald</td>\n",
       "      <td>7654</td>\n",
       "    </tr>\n",
       "    <tr>\n",
       "      <th>9</th>\n",
       "      <td>Brighouse &amp; Rastrick Gazette</td>\n",
       "      <td>6595</td>\n",
       "    </tr>\n",
       "    <tr>\n",
       "      <th>47</th>\n",
       "      <td>The Poole Telegram</td>\n",
       "      <td>6469</td>\n",
       "    </tr>\n",
       "    <tr>\n",
       "      <th>7</th>\n",
       "      <td>Bridlington and Quay Gazette</td>\n",
       "      <td>6344</td>\n",
       "    </tr>\n",
       "    <tr>\n",
       "      <th>53</th>\n",
       "      <td>Warwickshire Herald</td>\n",
       "      <td>5970</td>\n",
       "    </tr>\n",
       "    <tr>\n",
       "      <th>41</th>\n",
       "      <td>The Kenilworth Advertiser</td>\n",
       "      <td>5729</td>\n",
       "    </tr>\n",
       "    <tr>\n",
       "      <th>31</th>\n",
       "      <td>The Central Glamorgan Gazette</td>\n",
       "      <td>5625</td>\n",
       "    </tr>\n",
       "    <tr>\n",
       "      <th>16</th>\n",
       "      <td>Irvine Express</td>\n",
       "      <td>4841</td>\n",
       "    </tr>\n",
       "    <tr>\n",
       "      <th>3</th>\n",
       "      <td>Barrow Herald and Furness Advertiser</td>\n",
       "      <td>4742</td>\n",
       "    </tr>\n",
       "    <tr>\n",
       "      <th>22</th>\n",
       "      <td>Penistone, Stocksbridge and Hoyland Express</td>\n",
       "      <td>4396</td>\n",
       "    </tr>\n",
       "    <tr>\n",
       "      <th>39</th>\n",
       "      <td>The Herald of Wales</td>\n",
       "      <td>4158</td>\n",
       "    </tr>\n",
       "    <tr>\n",
       "      <th>40</th>\n",
       "      <td>The Industrial Review, Social and Political</td>\n",
       "      <td>3077</td>\n",
       "    </tr>\n",
       "    <tr>\n",
       "      <th>54</th>\n",
       "      <td>Weekly News</td>\n",
       "      <td>2932</td>\n",
       "    </tr>\n",
       "    <tr>\n",
       "      <th>48</th>\n",
       "      <td>The Potteries Examiner</td>\n",
       "      <td>2612</td>\n",
       "    </tr>\n",
       "    <tr>\n",
       "      <th>11</th>\n",
       "      <td>Cradley Heath &amp; Stourbridge Observer</td>\n",
       "      <td>2254</td>\n",
       "    </tr>\n",
       "    <tr>\n",
       "      <th>44</th>\n",
       "      <td>The Northern Guardian</td>\n",
       "      <td>1990</td>\n",
       "    </tr>\n",
       "    <tr>\n",
       "      <th>28</th>\n",
       "      <td>The Bee-Hive</td>\n",
       "      <td>1710</td>\n",
       "    </tr>\n",
       "    <tr>\n",
       "      <th>20</th>\n",
       "      <td>Nelson Chronicle, Colne Observer, and Clithero...</td>\n",
       "      <td>1682</td>\n",
       "    </tr>\n",
       "    <tr>\n",
       "      <th>27</th>\n",
       "      <td>The Atherstone, Nuneaton, and Warwickshire Times</td>\n",
       "      <td>1560</td>\n",
       "    </tr>\n",
       "    <tr>\n",
       "      <th>6</th>\n",
       "      <td>Bridgend Chronicle, Cowbridge, Llantrisant, an...</td>\n",
       "      <td>1472</td>\n",
       "    </tr>\n",
       "    <tr>\n",
       "      <th>18</th>\n",
       "      <td>Liverpool Weekly Courier</td>\n",
       "      <td>1418</td>\n",
       "    </tr>\n",
       "    <tr>\n",
       "      <th>52</th>\n",
       "      <td>The Weekly Journal</td>\n",
       "      <td>1216</td>\n",
       "    </tr>\n",
       "    <tr>\n",
       "      <th>51</th>\n",
       "      <td>The Warrington Examiner</td>\n",
       "      <td>1110</td>\n",
       "    </tr>\n",
       "    <tr>\n",
       "      <th>1</th>\n",
       "      <td>Bargoed Journal</td>\n",
       "      <td>888</td>\n",
       "    </tr>\n",
       "    <tr>\n",
       "      <th>12</th>\n",
       "      <td>Darlington &amp; Richmond Herald</td>\n",
       "      <td>882</td>\n",
       "    </tr>\n",
       "    <tr>\n",
       "      <th>23</th>\n",
       "      <td>Runcorn Examiner</td>\n",
       "      <td>652</td>\n",
       "    </tr>\n",
       "    <tr>\n",
       "      <th>36</th>\n",
       "      <td>The Glasgow Chronicle</td>\n",
       "      <td>645</td>\n",
       "    </tr>\n",
       "    <tr>\n",
       "      <th>17</th>\n",
       "      <td>Lancaster Standard and County Advertiser</td>\n",
       "      <td>613</td>\n",
       "    </tr>\n",
       "    <tr>\n",
       "      <th>10</th>\n",
       "      <td>Colne Valley Guardian</td>\n",
       "      <td>459</td>\n",
       "    </tr>\n",
       "    <tr>\n",
       "      <th>0</th>\n",
       "      <td>Alston Herald and East Cumberland Advertiser</td>\n",
       "      <td>445</td>\n",
       "    </tr>\n",
       "    <tr>\n",
       "      <th>19</th>\n",
       "      <td>Nantwich, Sandbach &amp; Crewe Star</td>\n",
       "      <td>394</td>\n",
       "    </tr>\n",
       "    <tr>\n",
       "      <th>45</th>\n",
       "      <td>The Northern News</td>\n",
       "      <td>387</td>\n",
       "    </tr>\n",
       "    <tr>\n",
       "      <th>30</th>\n",
       "      <td>The Cannock Chase Examiner</td>\n",
       "      <td>374</td>\n",
       "    </tr>\n",
       "    <tr>\n",
       "      <th>42</th>\n",
       "      <td>The Midland examiner and Wolverhampton times</td>\n",
       "      <td>364</td>\n",
       "    </tr>\n",
       "    <tr>\n",
       "      <th>35</th>\n",
       "      <td>The Forest of Dean Examiner</td>\n",
       "      <td>304</td>\n",
       "    </tr>\n",
       "    <tr>\n",
       "      <th>49</th>\n",
       "      <td>The Shropshire Examiner</td>\n",
       "      <td>295</td>\n",
       "    </tr>\n",
       "    <tr>\n",
       "      <th>43</th>\n",
       "      <td>The North Cumberland Reformer</td>\n",
       "      <td>295</td>\n",
       "    </tr>\n",
       "    <tr>\n",
       "      <th>34</th>\n",
       "      <td>The East Riding Telegraph</td>\n",
       "      <td>274</td>\n",
       "    </tr>\n",
       "    <tr>\n",
       "      <th>24</th>\n",
       "      <td>Stockton Examiner and South Durham and North Y...</td>\n",
       "      <td>254</td>\n",
       "    </tr>\n",
       "    <tr>\n",
       "      <th>26</th>\n",
       "      <td>Tamworth Miners' Examiner and Working Men's Jo...</td>\n",
       "      <td>226</td>\n",
       "    </tr>\n",
       "    <tr>\n",
       "      <th>46</th>\n",
       "      <td>The Pontypridd District Herald</td>\n",
       "      <td>110</td>\n",
       "    </tr>\n",
       "    <tr>\n",
       "      <th>14</th>\n",
       "      <td>Dewsbury Chronicle and West Riding Advertiser</td>\n",
       "      <td>82</td>\n",
       "    </tr>\n",
       "    <tr>\n",
       "      <th>37</th>\n",
       "      <td>The Halifax Comet</td>\n",
       "      <td>30</td>\n",
       "    </tr>\n",
       "    <tr>\n",
       "      <th>2</th>\n",
       "      <td>Barnsley Telephone</td>\n",
       "      <td>2</td>\n",
       "    </tr>\n",
       "  </tbody>\n",
       "</table>\n",
       "</div>"
      ],
      "text/plain": [
       "                                          title_clean  total_words\n",
       "4                                     Birkenhead News        31818\n",
       "32                           The Cotton Factory Times        19868\n",
       "56                                    Widnes Examiner        14131\n",
       "13                       Denton and Haughton Examiner        13169\n",
       "33  The Dorset County Express and Agricultural Gaz...        11888\n",
       "8       Bridport, Beaminster, and Lyme Regis Telegram        11274\n",
       "55                                  Weymouth Telegram        10071\n",
       "21                            Northern Weekly Gazette         9807\n",
       "25  Stockton Herald, South Durham and Cleveland Ad...         9581\n",
       "15                                    Glasgow Courier         9558\n",
       "38                             The Haslingden Gazette         9436\n",
       "29                The Blandford and Wimborne Telegram         8319\n",
       "5                          Blackpool Gazette & Herald         8201\n",
       "50                   The Swansea and Glamorgan Herald         7654\n",
       "9                        Brighouse & Rastrick Gazette         6595\n",
       "47                                 The Poole Telegram         6469\n",
       "7                        Bridlington and Quay Gazette         6344\n",
       "53                                Warwickshire Herald         5970\n",
       "41                          The Kenilworth Advertiser         5729\n",
       "31                      The Central Glamorgan Gazette         5625\n",
       "16                                     Irvine Express         4841\n",
       "3                Barrow Herald and Furness Advertiser         4742\n",
       "22        Penistone, Stocksbridge and Hoyland Express         4396\n",
       "39                                The Herald of Wales         4158\n",
       "40        The Industrial Review, Social and Political         3077\n",
       "54                                        Weekly News         2932\n",
       "48                             The Potteries Examiner         2612\n",
       "11               Cradley Heath & Stourbridge Observer         2254\n",
       "44                              The Northern Guardian         1990\n",
       "28                                       The Bee-Hive         1710\n",
       "20  Nelson Chronicle, Colne Observer, and Clithero...         1682\n",
       "27   The Atherstone, Nuneaton, and Warwickshire Times         1560\n",
       "6   Bridgend Chronicle, Cowbridge, Llantrisant, an...         1472\n",
       "18                           Liverpool Weekly Courier         1418\n",
       "52                                 The Weekly Journal         1216\n",
       "51                            The Warrington Examiner         1110\n",
       "1                                     Bargoed Journal          888\n",
       "12                       Darlington & Richmond Herald          882\n",
       "23                                   Runcorn Examiner          652\n",
       "36                              The Glasgow Chronicle          645\n",
       "17           Lancaster Standard and County Advertiser          613\n",
       "10                              Colne Valley Guardian          459\n",
       "0        Alston Herald and East Cumberland Advertiser          445\n",
       "19                    Nantwich, Sandbach & Crewe Star          394\n",
       "45                                  The Northern News          387\n",
       "30                         The Cannock Chase Examiner          374\n",
       "42       The Midland examiner and Wolverhampton times          364\n",
       "35                        The Forest of Dean Examiner          304\n",
       "49                            The Shropshire Examiner          295\n",
       "43                      The North Cumberland Reformer          295\n",
       "34                          The East Riding Telegraph          274\n",
       "24  Stockton Examiner and South Durham and North Y...          254\n",
       "26  Tamworth Miners' Examiner and Working Men's Jo...          226\n",
       "46                     The Pontypridd District Herald          110\n",
       "14      Dewsbury Chronicle and West Riding Advertiser           82\n",
       "37                                  The Halifax Comet           30\n",
       "2                                  Barnsley Telephone            2"
      ]
     },
     "execution_count": 10,
     "metadata": {},
     "output_type": "execute_result"
    }
   ],
   "source": [
    "df.groupby(['title_clean']).agg(total_words=('word_count', 'sum')).reset_index().sort_values(by='total_words',ascending=False)"
   ]
  },
  {
   "cell_type": "markdown",
   "metadata": {},
   "source": [
    "⏭️ Among the various metadata associated with each item, we have the **date of publication**. Let's use the `year` column to look at the timespan covered by our sample."
   ]
  },
  {
   "cell_type": "code",
   "execution_count": 11,
   "metadata": {},
   "outputs": [
    {
     "name": "stdout",
     "output_type": "stream",
     "text": [
      "Timespan covered by the sample: 1845-1920.\n"
     ]
    }
   ],
   "source": [
    "# Earliest year in the sample\n",
    "minyear = df['year'].min()\n",
    "# Latest year in the sample\n",
    "maxyear = df['year'].max()\n",
    "\n",
    "print(f'Timespan covered by the sample: {minyear}-{maxyear}.')"
   ]
  },
  {
   "cell_type": "markdown",
   "metadata": {},
   "source": [
    "If you are looking at a particular subspan in more detail, you can **subset** the dataframe. \n",
    "\n",
    "Say, we only want to look at articles published in the 1870s. We could create a filter using the `year` column:"
   ]
  },
  {
   "cell_type": "code",
   "execution_count": 12,
   "metadata": {},
   "outputs": [
    {
     "data": {
      "text/html": [
       "<div>\n",
       "<style scoped>\n",
       "    .dataframe tbody tr th:only-of-type {\n",
       "        vertical-align: middle;\n",
       "    }\n",
       "\n",
       "    .dataframe tbody tr th {\n",
       "        vertical-align: top;\n",
       "    }\n",
       "\n",
       "    .dataframe thead th {\n",
       "        text-align: right;\n",
       "    }\n",
       "</style>\n",
       "<table border=\"1\" class=\"dataframe\">\n",
       "  <thead>\n",
       "    <tr style=\"text-align: right;\">\n",
       "      <th></th>\n",
       "      <th>publication_code</th>\n",
       "      <th>issue_id</th>\n",
       "      <th>item_id</th>\n",
       "      <th>newspaper_title</th>\n",
       "      <th>data_provider</th>\n",
       "      <th>date</th>\n",
       "      <th>year</th>\n",
       "      <th>month</th>\n",
       "      <th>day</th>\n",
       "      <th>location</th>\n",
       "      <th>word_count</th>\n",
       "      <th>ocrquality</th>\n",
       "      <th>political_leaning_label</th>\n",
       "      <th>price_label</th>\n",
       "      <th>text</th>\n",
       "      <th>title_clean</th>\n",
       "    </tr>\n",
       "  </thead>\n",
       "  <tbody>\n",
       "    <tr>\n",
       "      <th>0</th>\n",
       "      <td>2249</td>\n",
       "      <td>624</td>\n",
       "      <td>art0017</td>\n",
       "      <td>The Bee-Hive.</td>\n",
       "      <td>British Library Heritage Made Digital Newspapers</td>\n",
       "      <td>1871-06-24</td>\n",
       "      <td>1871</td>\n",
       "      <td>6</td>\n",
       "      <td>24</td>\n",
       "      <td>London, England</td>\n",
       "      <td>263</td>\n",
       "      <td>0.9098</td>\n",
       "      <td>liberal</td>\n",
       "      <td>1d</td>\n",
       "      <td>THE TICHBORNE CASE.  On Tuesday, before the So...</td>\n",
       "      <td>The Bee-Hive</td>\n",
       "    </tr>\n",
       "    <tr>\n",
       "      <th>1</th>\n",
       "      <td>2250</td>\n",
       "      <td>908</td>\n",
       "      <td>art0002</td>\n",
       "      <td>The Industrial Review, Social and Political.</td>\n",
       "      <td>British Library Heritage Made Digital Newspapers</td>\n",
       "      <td>1877-09-08</td>\n",
       "      <td>1877</td>\n",
       "      <td>9</td>\n",
       "      <td>8</td>\n",
       "      <td>London, England</td>\n",
       "      <td>2772</td>\n",
       "      <td>0.9841</td>\n",
       "      <td>liberal</td>\n",
       "      <td>2d</td>\n",
       "      <td>THE CLERGY AND TRADE UNIONS.  LETTER FROM REV....</td>\n",
       "      <td>The Industrial Review, Social and Political</td>\n",
       "    </tr>\n",
       "    <tr>\n",
       "      <th>2</th>\n",
       "      <td>2250</td>\n",
       "      <td>406</td>\n",
       "      <td>art0024</td>\n",
       "      <td>The Industrial Review, Social and Political.</td>\n",
       "      <td>British Library Heritage Made Digital Newspapers</td>\n",
       "      <td>1878-04-06</td>\n",
       "      <td>1878</td>\n",
       "      <td>4</td>\n",
       "      <td>6</td>\n",
       "      <td>London, England</td>\n",
       "      <td>305</td>\n",
       "      <td>0.9870</td>\n",
       "      <td>liberal</td>\n",
       "      <td>2d</td>\n",
       "      <td>INDUSTRIAL REVIEW  OUR LEGISLATORS.  THE unrul...</td>\n",
       "      <td>The Industrial Review, Social and Political</td>\n",
       "    </tr>\n",
       "    <tr>\n",
       "      <th>3</th>\n",
       "      <td>2595</td>\n",
       "      <td>910</td>\n",
       "      <td>art0005</td>\n",
       "      <td>The Forest of Dean Examiner :</td>\n",
       "      <td>British Library Living with Machines Project</td>\n",
       "      <td>1875-09-10</td>\n",
       "      <td>1875</td>\n",
       "      <td>9</td>\n",
       "      <td>10</td>\n",
       "      <td>Blakeney, Gloucestershire, England</td>\n",
       "      <td>182</td>\n",
       "      <td>0.9572</td>\n",
       "      <td>independent</td>\n",
       "      <td>1d</td>\n",
       "      <td>WOOLISTON.  As UNDISTAICLIC IN DIYVICULTY.—A s...</td>\n",
       "      <td>The Forest of Dean Examiner</td>\n",
       "    </tr>\n",
       "    <tr>\n",
       "      <th>4</th>\n",
       "      <td>2595</td>\n",
       "      <td>420</td>\n",
       "      <td>art0027</td>\n",
       "      <td>The Forest of Dean Examiner :</td>\n",
       "      <td>British Library Living with Machines Project</td>\n",
       "      <td>1877-04-20</td>\n",
       "      <td>1877</td>\n",
       "      <td>4</td>\n",
       "      <td>20</td>\n",
       "      <td>Blakeney, Gloucestershire, England</td>\n",
       "      <td>122</td>\n",
       "      <td>0.9442</td>\n",
       "      <td>liberal</td>\n",
       "      <td>1d</td>\n",
       "      <td>THE FINE ART CO-OPERATIVE SUPPLY  ASSOCIATION,...</td>\n",
       "      <td>The Forest of Dean Examiner</td>\n",
       "    </tr>\n",
       "  </tbody>\n",
       "</table>\n",
       "</div>"
      ],
      "text/plain": [
       "   publication_code  issue_id  item_id  \\\n",
       "0              2249       624  art0017   \n",
       "1              2250       908  art0002   \n",
       "2              2250       406  art0024   \n",
       "3              2595       910  art0005   \n",
       "4              2595       420  art0027   \n",
       "\n",
       "                                newspaper_title  \\\n",
       "0                                 The Bee-Hive.   \n",
       "1  The Industrial Review, Social and Political.   \n",
       "2  The Industrial Review, Social and Political.   \n",
       "3                 The Forest of Dean Examiner :   \n",
       "4                 The Forest of Dean Examiner :   \n",
       "\n",
       "                                      data_provider        date  year  month  \\\n",
       "0  British Library Heritage Made Digital Newspapers  1871-06-24  1871      6   \n",
       "1  British Library Heritage Made Digital Newspapers  1877-09-08  1877      9   \n",
       "2  British Library Heritage Made Digital Newspapers  1878-04-06  1878      4   \n",
       "3      British Library Living with Machines Project  1875-09-10  1875      9   \n",
       "4      British Library Living with Machines Project  1877-04-20  1877      4   \n",
       "\n",
       "   day                            location  word_count  ocrquality  \\\n",
       "0   24                     London, England         263      0.9098   \n",
       "1    8                     London, England        2772      0.9841   \n",
       "2    6                     London, England         305      0.9870   \n",
       "3   10  Blakeney, Gloucestershire, England         182      0.9572   \n",
       "4   20  Blakeney, Gloucestershire, England         122      0.9442   \n",
       "\n",
       "  political_leaning_label price_label  \\\n",
       "0                 liberal          1d   \n",
       "1                 liberal          2d   \n",
       "2                 liberal          2d   \n",
       "3             independent          1d   \n",
       "4                 liberal          1d   \n",
       "\n",
       "                                                text  \\\n",
       "0  THE TICHBORNE CASE.  On Tuesday, before the So...   \n",
       "1  THE CLERGY AND TRADE UNIONS.  LETTER FROM REV....   \n",
       "2  INDUSTRIAL REVIEW  OUR LEGISLATORS.  THE unrul...   \n",
       "3  WOOLISTON.  As UNDISTAICLIC IN DIYVICULTY.—A s...   \n",
       "4  THE FINE ART CO-OPERATIVE SUPPLY  ASSOCIATION,...   \n",
       "\n",
       "                                   title_clean  \n",
       "0                                 The Bee-Hive  \n",
       "1  The Industrial Review, Social and Political  \n",
       "2  The Industrial Review, Social and Political  \n",
       "3                  The Forest of Dean Examiner  \n",
       "4                  The Forest of Dean Examiner  "
      ]
     },
     "execution_count": 12,
     "metadata": {},
     "output_type": "execute_result"
    }
   ],
   "source": [
    "df_1870s = df[(df['year'] >= 1870) & (df['year'] <= 1879)]\n",
    "df_1870s.head()"
   ]
  },
  {
   "cell_type": "markdown",
   "metadata": {},
   "source": [
    "No need to put conditions in parentheses if it's only one condition, e.g. only articles published after 1879:"
   ]
  },
  {
   "cell_type": "code",
   "execution_count": 13,
   "metadata": {},
   "outputs": [
    {
     "data": {
      "text/html": [
       "<div>\n",
       "<style scoped>\n",
       "    .dataframe tbody tr th:only-of-type {\n",
       "        vertical-align: middle;\n",
       "    }\n",
       "\n",
       "    .dataframe tbody tr th {\n",
       "        vertical-align: top;\n",
       "    }\n",
       "\n",
       "    .dataframe thead th {\n",
       "        text-align: right;\n",
       "    }\n",
       "</style>\n",
       "<table border=\"1\" class=\"dataframe\">\n",
       "  <thead>\n",
       "    <tr style=\"text-align: right;\">\n",
       "      <th></th>\n",
       "      <th>publication_code</th>\n",
       "      <th>issue_id</th>\n",
       "      <th>item_id</th>\n",
       "      <th>newspaper_title</th>\n",
       "      <th>data_provider</th>\n",
       "      <th>date</th>\n",
       "      <th>year</th>\n",
       "      <th>month</th>\n",
       "      <th>day</th>\n",
       "      <th>location</th>\n",
       "      <th>word_count</th>\n",
       "      <th>ocrquality</th>\n",
       "      <th>political_leaning_label</th>\n",
       "      <th>price_label</th>\n",
       "      <th>text</th>\n",
       "      <th>title_clean</th>\n",
       "    </tr>\n",
       "  </thead>\n",
       "  <tbody>\n",
       "    <tr>\n",
       "      <th>5</th>\n",
       "      <td>2596</td>\n",
       "      <td>714</td>\n",
       "      <td>art0052</td>\n",
       "      <td>The Cotton Factory Times.</td>\n",
       "      <td>British Library Living with Machines Project</td>\n",
       "      <td>1893-07-14</td>\n",
       "      <td>1893</td>\n",
       "      <td>7</td>\n",
       "      <td>14</td>\n",
       "      <td>Manchester, Greater Manchester, England</td>\n",
       "      <td>18</td>\n",
       "      <td>0.9119</td>\n",
       "      <td>neutral</td>\n",
       "      <td>1d</td>\n",
       "      <td>Black and white, brown and slate, Jackson's Ha...</td>\n",
       "      <td>The Cotton Factory Times</td>\n",
       "    </tr>\n",
       "    <tr>\n",
       "      <th>6</th>\n",
       "      <td>2596</td>\n",
       "      <td>626</td>\n",
       "      <td>art0016</td>\n",
       "      <td>The Cotton Factory Times.</td>\n",
       "      <td>British Library Living with Machines Project</td>\n",
       "      <td>1903-06-26</td>\n",
       "      <td>1903</td>\n",
       "      <td>6</td>\n",
       "      <td>26</td>\n",
       "      <td>Manchester, Greater Manchester, England</td>\n",
       "      <td>1980</td>\n",
       "      <td>0.9578</td>\n",
       "      <td>neutral</td>\n",
       "      <td>1d</td>\n",
       "      <td>Whiffles.  CHAPTER lll.—(Continued.) A high co...</td>\n",
       "      <td>The Cotton Factory Times</td>\n",
       "    </tr>\n",
       "    <tr>\n",
       "      <th>7</th>\n",
       "      <td>2596</td>\n",
       "      <td>1106</td>\n",
       "      <td>art0025</td>\n",
       "      <td>The Cotton Factory Times.</td>\n",
       "      <td>British Library Living with Machines Project</td>\n",
       "      <td>1903-11-06</td>\n",
       "      <td>1903</td>\n",
       "      <td>11</td>\n",
       "      <td>6</td>\n",
       "      <td>Manchester, Greater Manchester, England</td>\n",
       "      <td>448</td>\n",
       "      <td>0.9414</td>\n",
       "      <td>neutral</td>\n",
       "      <td>1d</td>\n",
       "      <td>The Present Pope. FROM \" MA.P.\"  This is one o...</td>\n",
       "      <td>The Cotton Factory Times</td>\n",
       "    </tr>\n",
       "    <tr>\n",
       "      <th>8</th>\n",
       "      <td>2596</td>\n",
       "      <td>620</td>\n",
       "      <td>art0009</td>\n",
       "      <td>The Cotton Factory Times.</td>\n",
       "      <td>British Library Living with Machines Project</td>\n",
       "      <td>1919-06-20</td>\n",
       "      <td>1919</td>\n",
       "      <td>6</td>\n",
       "      <td>20</td>\n",
       "      <td>Manchester, Greater Manchester, England</td>\n",
       "      <td>10</td>\n",
       "      <td>0.9588</td>\n",
       "      <td>neutral</td>\n",
       "      <td>1d</td>\n",
       "      <td>CONSUM?TIVE CHILDREN.  SIX MILLION IN OUR COUN...</td>\n",
       "      <td>The Cotton Factory Times</td>\n",
       "    </tr>\n",
       "    <tr>\n",
       "      <th>9</th>\n",
       "      <td>2596</td>\n",
       "      <td>1120</td>\n",
       "      <td>art0020</td>\n",
       "      <td>The Cotton Factory Times.</td>\n",
       "      <td>British Library Living with Machines Project</td>\n",
       "      <td>1891-11-20</td>\n",
       "      <td>1891</td>\n",
       "      <td>11</td>\n",
       "      <td>20</td>\n",
       "      <td>Manchester, Greater Manchester, England</td>\n",
       "      <td>373</td>\n",
       "      <td>0.9685</td>\n",
       "      <td>neutral</td>\n",
       "      <td>1d</td>\n",
       "      <td>SO CALM I  \"Is this Mrs. O'Cleary 7\" asked his...</td>\n",
       "      <td>The Cotton Factory Times</td>\n",
       "    </tr>\n",
       "  </tbody>\n",
       "</table>\n",
       "</div>"
      ],
      "text/plain": [
       "   publication_code  issue_id  item_id            newspaper_title  \\\n",
       "5              2596       714  art0052  The Cotton Factory Times.   \n",
       "6              2596       626  art0016  The Cotton Factory Times.   \n",
       "7              2596      1106  art0025  The Cotton Factory Times.   \n",
       "8              2596       620  art0009  The Cotton Factory Times.   \n",
       "9              2596      1120  art0020  The Cotton Factory Times.   \n",
       "\n",
       "                                  data_provider        date  year  month  day  \\\n",
       "5  British Library Living with Machines Project  1893-07-14  1893      7   14   \n",
       "6  British Library Living with Machines Project  1903-06-26  1903      6   26   \n",
       "7  British Library Living with Machines Project  1903-11-06  1903     11    6   \n",
       "8  British Library Living with Machines Project  1919-06-20  1919      6   20   \n",
       "9  British Library Living with Machines Project  1891-11-20  1891     11   20   \n",
       "\n",
       "                                  location  word_count  ocrquality  \\\n",
       "5  Manchester, Greater Manchester, England          18      0.9119   \n",
       "6  Manchester, Greater Manchester, England        1980      0.9578   \n",
       "7  Manchester, Greater Manchester, England         448      0.9414   \n",
       "8  Manchester, Greater Manchester, England          10      0.9588   \n",
       "9  Manchester, Greater Manchester, England         373      0.9685   \n",
       "\n",
       "  political_leaning_label price_label  \\\n",
       "5                 neutral          1d   \n",
       "6                 neutral          1d   \n",
       "7                 neutral          1d   \n",
       "8                 neutral          1d   \n",
       "9                 neutral          1d   \n",
       "\n",
       "                                                text               title_clean  \n",
       "5  Black and white, brown and slate, Jackson's Ha...  The Cotton Factory Times  \n",
       "6  Whiffles.  CHAPTER lll.—(Continued.) A high co...  The Cotton Factory Times  \n",
       "7  The Present Pope. FROM \" MA.P.\"  This is one o...  The Cotton Factory Times  \n",
       "8  CONSUM?TIVE CHILDREN.  SIX MILLION IN OUR COUN...  The Cotton Factory Times  \n",
       "9  SO CALM I  \"Is this Mrs. O'Cleary 7\" asked his...  The Cotton Factory Times  "
      ]
     },
     "execution_count": 13,
     "metadata": {},
     "output_type": "execute_result"
    }
   ],
   "source": [
    "df_mt1879 = df[df['year'] > 1879]\n",
    "df_mt1879.head()"
   ]
  },
  {
   "cell_type": "markdown",
   "metadata": {},
   "source": [
    "⏭️ We can use the `year` to check the **temporal coverage** of the sample and visualize the coverage (let's use the full sample here):"
   ]
  },
  {
   "cell_type": "code",
   "execution_count": 14,
   "metadata": {},
   "outputs": [
    {
     "data": {
      "image/png": "[encoded data removed]",
      "text/plain": [
       "<Figure size 1000x600 with 1 Axes>"
      ]
     },
     "metadata": {},
     "output_type": "display_data"
    }
   ],
   "source": [
    "import matplotlib.pyplot as plt\n",
    "\n",
    "# plot distribution of items over the years\n",
    "plt.figure(figsize=(10, 6))\n",
    "df['year'].value_counts().sort_index().plot(kind='bar')\n",
    "plt.title('Distribution of items over the years')\n",
    "plt.xlabel('Year')\n",
    "plt.ylabel('Number of items')\n",
    "plt.show()\n"
   ]
  },
  {
   "cell_type": "markdown",
   "metadata": {},
   "source": [
    "We can not only check the first and last date covered by the data, but also get an intuitive first idea of the (im)balance in how many articles we have per period. Naturally, counting the number of items per year is a _very_ rough approximation of the amount of content per year. This is because:\n",
    "1) segmentation of newspaper pages into items is far from perfect (as we'll see)\n",
    "2) even when segmentation _did_ lead to individual articles, articles can vary greatly in length."
   ]
  },
  {
   "cell_type": "markdown",
   "metadata": {},
   "source": [
    "> ❓ **Q**: What are some of the issues that missegmentation may cause to research using digitized newspaper texts as data source? \n",
    "\n",
    "> ❓ **Q**: Are there research scenarios in which missegmentation of newspaper pages is not a blocker? \n",
    "\n",
    "> ❓ **Q**: What workarounds can we try out to overcome some of the blockers?"
   ]
  },
  {
   "cell_type": "markdown",
   "metadata": {},
   "source": [
    "> ✏️ **Excercise**\n",
    "> \n",
    "> Which places of publications are the most frequent in our sample for articles published in the 1850s, 1860s, and 1870s? Generate a plot."
   ]
  },
  {
   "cell_type": "markdown",
   "metadata": {},
   "source": [
    "## A closer look at item lengths and segmentation problems"
   ]
  },
  {
   "cell_type": "markdown",
   "metadata": {},
   "source": [
    "Segmentation into 'items'/'articles' was done automatically, so the we'll often find more than one article counted as one (i.e. one row in our dataframe), or, less frequently, only a portion of one article (i.e. article was cut short). Article length (i.e. number of words) can give us an idea of what's the distribution of wrongly segmented articles. "
   ]
  },
  {
   "cell_type": "markdown",
   "metadata": {},
   "source": [
    "Let's print some high-level stats about this:"
   ]
  },
  {
   "cell_type": "code",
   "execution_count": 15,
   "metadata": {},
   "outputs": [
    {
     "data": {
      "text/plain": [
       "count     500.000000\n",
       "mean      522.226000\n",
       "std       864.991605\n",
       "min         1.000000\n",
       "25%        68.000000\n",
       "50%       213.500000\n",
       "75%       510.000000\n",
       "max      6055.000000\n",
       "Name: word_count, dtype: float64"
      ]
     },
     "execution_count": 15,
     "metadata": {},
     "output_type": "execute_result"
    }
   ],
   "source": [
    "df['word_count'].describe()"
   ]
  },
  {
   "cell_type": "markdown",
   "metadata": {},
   "source": [
    "And visualize it:"
   ]
  },
  {
   "cell_type": "code",
   "execution_count": 16,
   "metadata": {},
   "outputs": [
    {
     "data": {
      "image/png": "[encoded data removed]",
      "text/plain": [
       "<Figure size 1000x600 with 1 Axes>"
      ]
     },
     "metadata": {},
     "output_type": "display_data"
    }
   ],
   "source": [
    "import matplotlib.pyplot as plt\n",
    "import seaborn as sns\n",
    "\n",
    "# Set max_count for consistent x-ticks\n",
    "max_count = df['word_count'].max()\n",
    "\n",
    "# Histogram\n",
    "plt.figure(figsize=(10, 6))\n",
    "sns.histplot(df['word_count'], bins=100, kde=True)\n",
    "plt.title('Distribution of word counts')\n",
    "plt.xlabel('Word count')\n",
    "plt.ylabel('Frequency')\n",
    "plt.xticks(range(0, max_count, 100), rotation=90)\n",
    "plt.show()\n"
   ]
  },
  {
   "cell_type": "markdown",
   "metadata": {},
   "source": [
    "As was already clear from the second quartile (50%), or median, from the previous stats, at least half of the items have around 200 words or less. Obviously, an 'item' with 1 word will not repesent an article. Likewise, though, a 6000-word item will also very unlikely represent an article."
   ]
  },
  {
   "cell_type": "markdown",
   "metadata": {},
   "source": [
    "### Page missegmentation and identifying articles headlines"
   ]
  },
  {
   "cell_type": "markdown",
   "metadata": {},
   "source": [
    "One of the main issues in working with digitized historical newspaper is page segmentation. More often than not you'll need to work at the 'article' level, but singling out articles can be challenging. Let's look at longer items, to see what they actually contain. \n",
    "\n",
    "First, create a subset with only items with > 500 words (totally arbitrary number, but more likely to capture items containing several articles)."
   ]
  },
  {
   "cell_type": "code",
   "execution_count": 17,
   "metadata": {},
   "outputs": [],
   "source": [
    "long_articles_df = df[df['word_count'] > 500].reset_index(drop='index')"
   ]
  },
  {
   "cell_type": "markdown",
   "metadata": {},
   "source": [
    "Have a look at some random 'articles' from our sample. The following specific item, for instance, has at least 3 articles in it (change the number in square brackets to see different ones):"
   ]
  },
  {
   "cell_type": "code",
   "execution_count": 18,
   "metadata": {},
   "outputs": [
    {
     "data": {
      "text/plain": [
       "'ALLEGED FORGERY .ON THE BANK  OF ENGLAND.  Arthur Reynolds Schirges a clerk, has been Cammitted for trial from the London Mansion House on a charge of forging a cheque for £2OO with intent to defraud the Bank of England. Prisoner presented at the Bank of England a cheque for £2OO, purporting to he signed by Messrs. H. Clarkson and Co., shipbrokers, Billiter-street, who keep an account there. It was discovered on inquiry that the che.que had been issued, not to Messrs. Clarkson, but to °the/ customers of the bank, Messrs. Chorley and Crawford.  THE CABINET AND THE LIBERAL UNIONISTS. Since the last Cabinet Council there has been, the Press Association says, much activity among the members of the Literal Unionists\\' Associa ion in London, and the views of the leaders, and especially of Lord Hartingtom have been ascertsim d by the Priem Minister and other members of the Cabinet. Inter-views have taken place between Lord Salisbury and Lord Ilartington and between Sir Michael Hicks-Beach and Lord Hartington at Devonshire House, at which it is understood an exchange of views took place on the subject of the questions now prominent in the political world, including that of the future government of Ireland. For the first time since the recess the Liberal Unionist leaders have conferred together. Sir Henry James had an interview with Lord Hartington at Devonshire House, after which his lordship proceeded to Spring-gardens, where a meeting of the Executive Committee of the Association was held under his lordship\\'s presidency, at which, among others, Sir Henry Jaime, Mr. A. Craig-Sellm, Mr. Hoblicuse, and Sir Rowland.Blennerhassett were preSent. Lord Hartington has abandoned his projected visit to India in order to devote himself to the interests of the Unionists, but it is expected that his lordship may pay a brief visit to the Continent.  SUPPOSED DOUBLE MURDER. \\'The inquest on two women (Sarah Mellor, aged 56, and her sister.in-law, Betty Kent, aged 56), who were found murdered at their residence, at Lytham, has been held. A man named Jas. Mellor is in charge of the police. Evidence was given to the effect that • Mellor met a policeman and asked him to accompany him to his hone°, stating that two women had hurt themrelvera On going to the house, the constable found Mellor\\'e wife lying dead on the sofa, with her head fearfully battered. Her sister.inlaw was lying dead in the back garden, her head having been frightfully injured. A blacksmith\\'s hammer, stained with blood, was found in the garden. On being charged with the murders Mellor said \"I am very sorry for what I have done. I hope you will forgive me.\" The jury returned a verdict of wilful murder against Mellor.  111.noe HANNINGTON\\'S LAST DATA.—The diary of the martyred Wahl, has been received by the Church Missionary Society. It is painfully interesting reading, sad ha a evidently been written up to the very day of his murder. We tears ills written in one 0. Lett\\'s monthly pocket diaries, and that the entries hare been made with great care, and with such regard for . economy of space that in some instances a niagn(fying glass is required for their decipherment. This memorial IS in course of transcription, and will appear in full in the\\'eliareh Missionary Society Intelliyeneer. • \\'lie connection with the vacancy in the represent.. ben of Brighton, caused by the death of Mr. Smith, M.P., the name of Dr. Tindal Roberteon, chairman of the Conservative ASSOCititiOIL is mentioned as a probable candidate. M. Eowis Honours\\' life of the late Earl of Shaftesbury is now being published by Messrs. Cassell and Co. in three volumes. '"
      ]
     },
     "execution_count": 18,
     "metadata": {},
     "output_type": "execute_result"
    }
   ],
   "source": [
    "long_articles_df['text'][15]"
   ]
  },
  {
   "cell_type": "markdown",
   "metadata": {},
   "source": [
    "In fact, looking at the newspaper page, we can see that it corresponds to three separate articles:"
   ]
  },
  {
   "cell_type": "markdown",
   "metadata": {},
   "source": [
    "<img src=\"figures/page.png\" alt=\"optional description\" width=\"700\"/>"
   ]
  },
  {
   "cell_type": "markdown",
   "metadata": {},
   "source": [
    "Some long items are genuinely long articles, but several are multiple articles together. We can try and marginally improve segmentation and see what problems may arise. We'll try the _very_ crude approach of splitting text where there are longer (>=3 words, though this is completely arbitrary) substrings in all-caps (signalling, most often, a new headline). We'll use `re`gular expressions to do this.\n",
    "\n",
    "There are several tools that can help you formulate the right regex for capturing what you need. [regex101.com](https://regex101.com/) is one of them, but you can now ask ChatGPT for help too."
   ]
  },
  {
   "cell_type": "markdown",
   "metadata": {},
   "source": [
    "Import the `re` package which allows you to search for a string matching a specific pattern via regular expressions."
   ]
  },
  {
   "cell_type": "code",
   "execution_count": 19,
   "metadata": {},
   "outputs": [],
   "source": [
    "import re"
   ]
  },
  {
   "cell_type": "markdown",
   "metadata": {},
   "source": [
    "If we look closely at some items, we immediately see that more often than not articles are introduced by a headline in all-caps, ending in a full stop:"
   ]
  },
  {
   "cell_type": "code",
   "execution_count": 20,
   "metadata": {},
   "outputs": [
    {
     "data": {
      "text/plain": [
       "0     THE TICHBORNE CASE.  On Tuesday, before the So...\n",
       "1     THE CLERGY AND TRADE UNIONS.  LETTER FROM REV....\n",
       "2     INDUSTRIAL REVIEW  OUR LEGISLATORS.  THE unrul...\n",
       "3     WOOLISTON.  As UNDISTAICLIC IN DIYVICULTY.—A s...\n",
       "4     THE FINE ART CO-OPERATIVE SUPPLY  ASSOCIATION,...\n",
       "5     Black and white, brown and slate, Jackson's Ha...\n",
       "6     Whiffles.  CHAPTER lll.—(Continued.) A high co...\n",
       "7     The Present Pope. FROM \" MA.P.\"  This is one o...\n",
       "8     CONSUM?TIVE CHILDREN.  SIX MILLION IN OUR COUN...\n",
       "9     SO CALM I  \"Is this Mrs. O'Cleary 7\" asked his...\n",
       "10    LEES.  ACCIDENT TO A PIECED AT SPRINOREAD. An ...\n",
       "11    GENER.A.L NEWS.  About 500 men employed at the...\n",
       "12    ROYTON.  Dissatisfaction. The cardroom tenters...\n",
       "13    SOME PHASES OF THE AMERICAN INDUSTRY.  A great...\n",
       "14      If , 1 f 1 I I I i i 1 . I # 1 i ii ,I ~. 1 SI \n",
       "Name: text, dtype: object"
      ]
     },
     "execution_count": 20,
     "metadata": {},
     "output_type": "execute_result"
    }
   ],
   "source": [
    "df['text'].head(15)"
   ]
  },
  {
   "cell_type": "markdown",
   "metadata": {},
   "source": [
    "We can try leveraging all-caps + full stop strings to identify potential headlines and, later, use the identified headlines to split items into its articles, if needed. \n",
    "\n",
    "More specifically, however, we want to capture sequences of uppercase letters that are possibly mixed with non-word characters (i.e. some punctuation marks and whitespace) and numeric characters."
   ]
  },
  {
   "cell_type": "code",
   "execution_count": 21,
   "metadata": {},
   "outputs": [],
   "source": [
    "def extract_full_caps_sequences(text):\n",
    "    # Regular expression to find sequences of full caps words (more than one word in a row)\n",
    "    full_caps_sequences = re.findall(r'\\b[A-Z]{3,}(?:[\\W]*[A-Z0-9])*\\b\\.', text)\n",
    "    return full_caps_sequences"
   ]
  },
  {
   "cell_type": "markdown",
   "metadata": {},
   "source": [
    "Let's breakdown the regex above:\n",
    "\n",
    "- `\\b`: A word boundary anchor, to match strings at the beginning of a word (i.e. following a non-word character). This avoids to capture all-caps randomly appearing after lowercase letters (e.g. as a result of OCR errors).\n",
    "- `[A-Z]{3,}`: This matches a sequence of at least three uppercase letters (A-Z). {3,} specifies that the preceding character class [A-Z] must appear at least three times but can appear more times.\n",
    "- `(?:[\\W]*[A-Z0-9])*`: non-capturing group (indicated by ?: at the start). It matches the following pattern zero or more times (as indicated by the * quantifier). Non-capturing groups are simply ways of grouping parts of a regex without meaning to only capture it separately. While `[A-Z]{3,}` ensured the string contains at least a word in uppercase (with at least 3 characters), this groups adds that it can also contain punctuation, spaces, or numbers. We did not add numbers, spaces, and punctuation directly to the previous part of the regex because otherwise it would capture _any_ long number or random punctuation/space sequences (not just those part of an all-caps string). See following two points for what's inside this group.\n",
    "- `[\\W]*`: Matches zero or more non-word characters. Non-word characters (\\W) include anything that is not a letter, digit, or underscore (_).\n",
    "- `[A-Z0-9]`: Matches a single character that is an uppercase letter (A-Z) or a digit (0-9).\n",
    "- `\\b`: Another word boundary anchor, ensuring that the pattern ends at a word boundary.\n",
    "- `\\.`: Matches a literal dot (.) character. This character must appear immediately after the word boundary.\n",
    "\n",
    "NB: This particular regex was formulated after a bit of trial and error. This is why, for example, the '3 characters' rule may seem very specific, and so does the rest of the regex, but it's what appeared to work best based on running previous versions of a regex, and running and adjusting it several times until we were relatively satisfied with the segmentation.\n",
    "In a real-world scenario, we would complicate the regex a bit further, by adding, e.g. an additional option to allow single or two-character strings at the beginning of the matches. So keep in mind that the current regex will not capture \"I\" or \"AN\" or \"A\" at the beginning of headlines."
   ]
  },
  {
   "cell_type": "markdown",
   "metadata": {},
   "source": [
    "Let's apply the function to the text column and save the output as a separate object:"
   ]
  },
  {
   "cell_type": "code",
   "execution_count": 22,
   "metadata": {},
   "outputs": [
    {
     "data": {
      "text/plain": [
       "0                                  [THE TICHBORNE CASE.]\n",
       "1      [THE CLERGY AND TRADE UNIONS.  LETTER FROM REV...\n",
       "2                  [INDUSTRIAL REVIEW  OUR LEGISLATORS.]\n",
       "3              [WOOLISTON., UNDISTAICLIC IN DIYVICULTY.]\n",
       "4      [THE FINE ART CO-OPERATIVE SUPPLY  ASSOCIATION...\n",
       "                             ...                        \n",
       "495                                                   []\n",
       "496                                                   []\n",
       "497                                                   []\n",
       "498                         [CABER., SILVER GOLD CASES.]\n",
       "499                                                   []\n",
       "Name: text, Length: 500, dtype: object"
      ]
     },
     "execution_count": 22,
     "metadata": {},
     "output_type": "execute_result"
    }
   ],
   "source": [
    "df['text'] = df['text'].astype(str)\n",
    "rough_headlines = df['text'].apply(extract_full_caps_sequences)\n",
    "rough_headlines"
   ]
  },
  {
   "cell_type": "markdown",
   "metadata": {},
   "source": [
    "You can immediately see that this cannot but be an extremely crude approach to finding headlines, as the empty lists show. However, over a very large collection, they may still be somewhat useful for data exploration."
   ]
  },
  {
   "cell_type": "markdown",
   "metadata": {},
   "source": [
    "Let's check how many 'articles' might contain more than one article. We do this by 'exploding', i.e. expanding, several matched items in a single row into separate rows."
   ]
  },
  {
   "cell_type": "code",
   "execution_count": 23,
   "metadata": {},
   "outputs": [
    {
     "data": {
      "text/plain": [
       "0                                      THE TICHBORNE CASE\n",
       "1       THE CLERGY AND TRADE UNIONS  LETTER FROM REV J...\n",
       "2                                          PRICE TWOPENCE\n",
       "3                          THE LABOUR AND 0111 ER MAPRETS\n",
       "4                      INDUSTRIAL REVIEW  OUR LEGISLATORS\n",
       "                              ...                        \n",
       "1730                                       OFICI S WWI MM\n",
       "1731                                        LIEII ANDIEWS\n",
       "1732                                            POIBTLAXD\n",
       "1737                                                CABER\n",
       "1738                                    SILVER GOLD CASES\n",
       "Name: text, Length: 1616, dtype: object"
      ]
     },
     "execution_count": 23,
     "metadata": {},
     "output_type": "execute_result"
    }
   ],
   "source": [
    "# Explode the articles into separate rows\n",
    "rough_headlines = rough_headlines.explode('text').reset_index(drop=True).dropna()\n",
    "rough_headlines = rough_headlines.str.replace(r'[^0-9A-Z ]+', '', regex=True).str.strip()\n",
    "rough_headlines"
   ]
  },
  {
   "cell_type": "markdown",
   "metadata": {},
   "source": [
    "Several of these are very likely ads, which use all-caps as a highlighting technique. For example:"
   ]
  },
  {
   "cell_type": "code",
   "execution_count": 24,
   "metadata": {},
   "outputs": [
    {
     "data": {
      "text/plain": [
       "'„ E S 3 8 Lunn ATCH  Is Better Value than any non-KeylessEnglish Lever ever made.  CABER.  tEE-Q.R\\'l\" E Li LEVER WATCH of BEST LONDON MAKE, with Chronometer Balance. fully Jewelled and of special strength throughout. Made in Four Sizes—Gentlemen and Youths (as illus— trated)? Working Men generally, specially large for Miners and Railway Men, and extra small tor Lathes. In Sterling Silver Crystal Glass Cages, 0 ss. In 18-carat Gold Crystal Glass Cases, iientleinans size, Zl2 12s, Lady\\'s size, £lO 10s. Guaranteed for strength, accuracy, durability, and value.  SILVER GOLD CASES. \\' , •••,\\' q• ~ , , 5 _ , ,• .... ~ A• • ,--4. e .- III? I? , ,„?.... . ____, • C‹,,,,,,9 ./%•\":,\\',\\' • .... --4*--. . \"01 • •,. • k, 4 •,..-4 / IS• ,‘.. AI ‘ , b , . : •c, 4 \\' /Ai c, \\\\ \\\\k„ 4\"• e, \\'\\'\\'%,„,;2\\'s-: -- 1-- ---\\' ,40(\\'\\'\\' VIRE\" UK \\'ER PLA\\' -INTGLIsii '"
      ]
     },
     "execution_count": 24,
     "metadata": {},
     "output_type": "execute_result"
    }
   ],
   "source": [
    "(df[df['text'].str.contains('SILVER GOLD CASES', na=False)]['text'].reset_index(drop='index')[0])"
   ]
  },
  {
   "cell_type": "markdown",
   "metadata": {},
   "source": [
    "We can also create a separate column with the identified potential headlines:"
   ]
  },
  {
   "cell_type": "code",
   "execution_count": 25,
   "metadata": {},
   "outputs": [],
   "source": [
    "df['headlines'] = df['text'].apply(extract_full_caps_sequences)"
   ]
  },
  {
   "cell_type": "markdown",
   "metadata": {},
   "source": [
    "You can also reorganize the dataframe by placing one potential headline per row and copying the relevant metadata:"
   ]
  },
  {
   "cell_type": "code",
   "execution_count": 26,
   "metadata": {},
   "outputs": [
    {
     "data": {
      "text/html": [
       "<div>\n",
       "<style scoped>\n",
       "    .dataframe tbody tr th:only-of-type {\n",
       "        vertical-align: middle;\n",
       "    }\n",
       "\n",
       "    .dataframe tbody tr th {\n",
       "        vertical-align: top;\n",
       "    }\n",
       "\n",
       "    .dataframe thead th {\n",
       "        text-align: right;\n",
       "    }\n",
       "</style>\n",
       "<table border=\"1\" class=\"dataframe\">\n",
       "  <thead>\n",
       "    <tr style=\"text-align: right;\">\n",
       "      <th></th>\n",
       "      <th>publication_code</th>\n",
       "      <th>issue_id</th>\n",
       "      <th>item_id</th>\n",
       "      <th>newspaper_title</th>\n",
       "      <th>data_provider</th>\n",
       "      <th>date</th>\n",
       "      <th>year</th>\n",
       "      <th>month</th>\n",
       "      <th>day</th>\n",
       "      <th>location</th>\n",
       "      <th>word_count</th>\n",
       "      <th>ocrquality</th>\n",
       "      <th>political_leaning_label</th>\n",
       "      <th>price_label</th>\n",
       "      <th>text</th>\n",
       "      <th>title_clean</th>\n",
       "      <th>headlines</th>\n",
       "    </tr>\n",
       "  </thead>\n",
       "  <tbody>\n",
       "    <tr>\n",
       "      <th>0</th>\n",
       "      <td>2249</td>\n",
       "      <td>624</td>\n",
       "      <td>art0017</td>\n",
       "      <td>The Bee-Hive.</td>\n",
       "      <td>British Library Heritage Made Digital Newspapers</td>\n",
       "      <td>1871-06-24</td>\n",
       "      <td>1871</td>\n",
       "      <td>6</td>\n",
       "      <td>24</td>\n",
       "      <td>London, England</td>\n",
       "      <td>263</td>\n",
       "      <td>0.9098</td>\n",
       "      <td>liberal</td>\n",
       "      <td>1d</td>\n",
       "      <td>THE TICHBORNE CASE.  On Tuesday, before the So...</td>\n",
       "      <td>The Bee-Hive</td>\n",
       "      <td>THE TICHBORNE CASE</td>\n",
       "    </tr>\n",
       "    <tr>\n",
       "      <th>1</th>\n",
       "      <td>2250</td>\n",
       "      <td>908</td>\n",
       "      <td>art0002</td>\n",
       "      <td>The Industrial Review, Social and Political.</td>\n",
       "      <td>British Library Heritage Made Digital Newspapers</td>\n",
       "      <td>1877-09-08</td>\n",
       "      <td>1877</td>\n",
       "      <td>9</td>\n",
       "      <td>8</td>\n",
       "      <td>London, England</td>\n",
       "      <td>2772</td>\n",
       "      <td>0.9841</td>\n",
       "      <td>liberal</td>\n",
       "      <td>2d</td>\n",
       "      <td>THE CLERGY AND TRADE UNIONS.  LETTER FROM REV....</td>\n",
       "      <td>The Industrial Review, Social and Political</td>\n",
       "      <td>THE CLERGY AND TRADE UNIONS  LETTER FROM REV J...</td>\n",
       "    </tr>\n",
       "    <tr>\n",
       "      <th>1</th>\n",
       "      <td>2250</td>\n",
       "      <td>908</td>\n",
       "      <td>art0002</td>\n",
       "      <td>The Industrial Review, Social and Political.</td>\n",
       "      <td>British Library Heritage Made Digital Newspapers</td>\n",
       "      <td>1877-09-08</td>\n",
       "      <td>1877</td>\n",
       "      <td>9</td>\n",
       "      <td>8</td>\n",
       "      <td>London, England</td>\n",
       "      <td>2772</td>\n",
       "      <td>0.9841</td>\n",
       "      <td>liberal</td>\n",
       "      <td>2d</td>\n",
       "      <td>THE CLERGY AND TRADE UNIONS.  LETTER FROM REV....</td>\n",
       "      <td>The Industrial Review, Social and Political</td>\n",
       "      <td>PRICE TWOPENCE</td>\n",
       "    </tr>\n",
       "    <tr>\n",
       "      <th>1</th>\n",
       "      <td>2250</td>\n",
       "      <td>908</td>\n",
       "      <td>art0002</td>\n",
       "      <td>The Industrial Review, Social and Political.</td>\n",
       "      <td>British Library Heritage Made Digital Newspapers</td>\n",
       "      <td>1877-09-08</td>\n",
       "      <td>1877</td>\n",
       "      <td>9</td>\n",
       "      <td>8</td>\n",
       "      <td>London, England</td>\n",
       "      <td>2772</td>\n",
       "      <td>0.9841</td>\n",
       "      <td>liberal</td>\n",
       "      <td>2d</td>\n",
       "      <td>THE CLERGY AND TRADE UNIONS.  LETTER FROM REV....</td>\n",
       "      <td>The Industrial Review, Social and Political</td>\n",
       "      <td>THE LABOUR AND 0111 ER MAPRETS</td>\n",
       "    </tr>\n",
       "    <tr>\n",
       "      <th>2</th>\n",
       "      <td>2250</td>\n",
       "      <td>406</td>\n",
       "      <td>art0024</td>\n",
       "      <td>The Industrial Review, Social and Political.</td>\n",
       "      <td>British Library Heritage Made Digital Newspapers</td>\n",
       "      <td>1878-04-06</td>\n",
       "      <td>1878</td>\n",
       "      <td>4</td>\n",
       "      <td>6</td>\n",
       "      <td>London, England</td>\n",
       "      <td>305</td>\n",
       "      <td>0.9870</td>\n",
       "      <td>liberal</td>\n",
       "      <td>2d</td>\n",
       "      <td>INDUSTRIAL REVIEW  OUR LEGISLATORS.  THE unrul...</td>\n",
       "      <td>The Industrial Review, Social and Political</td>\n",
       "      <td>INDUSTRIAL REVIEW  OUR LEGISLATORS</td>\n",
       "    </tr>\n",
       "  </tbody>\n",
       "</table>\n",
       "</div>"
      ],
      "text/plain": [
       "   publication_code  issue_id  item_id  \\\n",
       "0              2249       624  art0017   \n",
       "1              2250       908  art0002   \n",
       "1              2250       908  art0002   \n",
       "1              2250       908  art0002   \n",
       "2              2250       406  art0024   \n",
       "\n",
       "                                newspaper_title  \\\n",
       "0                                 The Bee-Hive.   \n",
       "1  The Industrial Review, Social and Political.   \n",
       "1  The Industrial Review, Social and Political.   \n",
       "1  The Industrial Review, Social and Political.   \n",
       "2  The Industrial Review, Social and Political.   \n",
       "\n",
       "                                      data_provider        date  year  month  \\\n",
       "0  British Library Heritage Made Digital Newspapers  1871-06-24  1871      6   \n",
       "1  British Library Heritage Made Digital Newspapers  1877-09-08  1877      9   \n",
       "1  British Library Heritage Made Digital Newspapers  1877-09-08  1877      9   \n",
       "1  British Library Heritage Made Digital Newspapers  1877-09-08  1877      9   \n",
       "2  British Library Heritage Made Digital Newspapers  1878-04-06  1878      4   \n",
       "\n",
       "   day         location  word_count  ocrquality political_leaning_label  \\\n",
       "0   24  London, England         263      0.9098                 liberal   \n",
       "1    8  London, England        2772      0.9841                 liberal   \n",
       "1    8  London, England        2772      0.9841                 liberal   \n",
       "1    8  London, England        2772      0.9841                 liberal   \n",
       "2    6  London, England         305      0.9870                 liberal   \n",
       "\n",
       "  price_label                                               text  \\\n",
       "0          1d  THE TICHBORNE CASE.  On Tuesday, before the So...   \n",
       "1          2d  THE CLERGY AND TRADE UNIONS.  LETTER FROM REV....   \n",
       "1          2d  THE CLERGY AND TRADE UNIONS.  LETTER FROM REV....   \n",
       "1          2d  THE CLERGY AND TRADE UNIONS.  LETTER FROM REV....   \n",
       "2          2d  INDUSTRIAL REVIEW  OUR LEGISLATORS.  THE unrul...   \n",
       "\n",
       "                                   title_clean  \\\n",
       "0                                 The Bee-Hive   \n",
       "1  The Industrial Review, Social and Political   \n",
       "1  The Industrial Review, Social and Political   \n",
       "1  The Industrial Review, Social and Political   \n",
       "2  The Industrial Review, Social and Political   \n",
       "\n",
       "                                           headlines  \n",
       "0                                 THE TICHBORNE CASE  \n",
       "1  THE CLERGY AND TRADE UNIONS  LETTER FROM REV J...  \n",
       "1                                     PRICE TWOPENCE  \n",
       "1                     THE LABOUR AND 0111 ER MAPRETS  \n",
       "2                 INDUSTRIAL REVIEW  OUR LEGISLATORS  "
      ]
     },
     "execution_count": 26,
     "metadata": {},
     "output_type": "execute_result"
    }
   ],
   "source": [
    "rough_headlines_df = df.explode('headlines')\n",
    "rough_headlines_df['headlines'] = rough_headlines_df['headlines'].str.replace(r'[^0-9A-Z ]+', '', regex=True).str.strip()\n",
    "rough_headlines_df.head(5)"
   ]
  },
  {
   "cell_type": "markdown",
   "metadata": {},
   "source": [
    "And perhaps save the output for separate inspection later:"
   ]
  },
  {
   "cell_type": "code",
   "execution_count": 27,
   "metadata": {},
   "outputs": [],
   "source": [
    "rough_headlines_df.to_csv('headlines_df.csv',index=False)"
   ]
  },
  {
   "cell_type": "markdown",
   "metadata": {},
   "source": [
    "There is probably not much gain in trying to improve segmentation with a rule-based approach (e.g. look for all caps) across the collection, as it would be time-consuming. However, it may be necessary when constructing a smaller sample to be annotated (for whatever task, e.g. classification)."
   ]
  },
  {
   "cell_type": "markdown",
   "metadata": {},
   "source": [
    "Let's pretend our sample contains only items containing at least one occurrence from a specified list of keywords and that we now want to 'clean' the items as much as possible by attempting to only keep the article. One way to go about it is to apply the regex above to the `text` column, then segmenting the item into as many subitems as there are matches (i.e. potential headlines). Then we can take all the text from one headline to the last character before the beginning of the next headline as one article (obviously, this will have no effect on items for which there was no match, i.e. which probably contain only one article already). "
   ]
  },
  {
   "cell_type": "markdown",
   "metadata": {},
   "source": [
    "Let's write a function that identifies potential headlines and then considers the text running from one potential headline to the next as one article."
   ]
  },
  {
   "cell_type": "code",
   "execution_count": 28,
   "metadata": {},
   "outputs": [],
   "source": [
    "def segment_articles(text):\n",
    "    # Define a regular expression to identify headlines accurately\n",
    "    headline_pattern = re.compile(r'\\b[A-Z]{3,}(?:[\\W]*[A-Z0-9])*\\b\\.')\n",
    "\n",
    "    # Find all matches using finditer which gives us match objects with start and end info\n",
    "    matches = list(re.finditer(headline_pattern, text))\n",
    "    articles = []\n",
    "\n",
    "    for i in range(len(matches)):\n",
    "        start = matches[i].start()  # Start of current headline\n",
    "        # End is either start of the next headline or end of text if no more headlines\n",
    "        end = matches[i + 1].start() if i + 1 < len(matches) else len(text)\n",
    "        article = text[start:end].strip()\n",
    "        articles.append(article)\n",
    "\n",
    "    return articles"
   ]
  },
  {
   "cell_type": "markdown",
   "metadata": {},
   "source": [
    "Let's apply the function to the `text` column, saving the output as a separate, new `articles` column:"
   ]
  },
  {
   "cell_type": "code",
   "execution_count": 29,
   "metadata": {},
   "outputs": [],
   "source": [
    "df['articles'] = df.apply(lambda x: segment_articles(x['text']), axis=1)"
   ]
  },
  {
   "cell_type": "markdown",
   "metadata": {},
   "source": [
    "And `explode` the dataframe based on this new column:"
   ]
  },
  {
   "cell_type": "code",
   "execution_count": 30,
   "metadata": {},
   "outputs": [],
   "source": [
    "df_articles = df.explode('articles')"
   ]
  },
  {
   "cell_type": "markdown",
   "metadata": {},
   "source": [
    "At this point, you get one potential 'article' per row, rather than simply 'items'. At this point, depending on your research needs, you further manipulate the dataframe. Some variables, for example, will refer to the original 'item', such as the word count. This can be redone, to reflect the new 'article' text. Or, if you are working with a keyword-based sample, you may need to filter out articles that do not contain the keywords of interest anymore after the new segmentation.\n",
    "\n",
    "You can the save the sample to be used later, after dropping any rows containing empty cells:"
   ]
  },
  {
   "cell_type": "code",
   "execution_count": 31,
   "metadata": {},
   "outputs": [],
   "source": [
    "df_articles.dropna().drop(columns='text').to_csv('articles.csv',index=False)"
   ]
  },
  {
   "cell_type": "markdown",
   "metadata": {},
   "source": [
    "> **NB**: There are more complex segmentation problems. The one with 'multiple articles' in one item is actually the least complex one, perhaps. \n",
    "> E.g. There are cases in which bits from one article are randomly included in another, others in which whole lines of texts are skipped, and others in which in-between-pages items are separated, etc."
   ]
  },
  {
   "cell_type": "markdown",
   "metadata": {},
   "source": [
    "## A brief look at embedding models of arbitrary text subsamples"
   ]
  },
  {
   "cell_type": "markdown",
   "metadata": {},
   "source": [
    "> Intro to Word2Vec: https://github.com/npedrazzini/word2vec-tutorial/blob/main/word2vec_dhoxss.ipynb\n",
    "\n",
    "> Repo with diachronic embedding models training and exploration based on newspapers with metadata: https://github.com/Living-with-machines/DiachronicEmb-BigHistData"
   ]
  },
  {
   "cell_type": "code",
   "execution_count": 32,
   "metadata": {},
   "outputs": [],
   "source": [
    "import pandas as pd\n",
    "from gensim.models import Word2Vec\n",
    "from gensim.models import KeyedVectors\n",
    "from tqdm import tqdm "
   ]
  },
  {
   "cell_type": "code",
   "execution_count": 33,
   "metadata": {},
   "outputs": [
    {
     "data": {
      "text/html": [
       "<div>\n",
       "<style scoped>\n",
       "    .dataframe tbody tr th:only-of-type {\n",
       "        vertical-align: middle;\n",
       "    }\n",
       "\n",
       "    .dataframe tbody tr th {\n",
       "        vertical-align: top;\n",
       "    }\n",
       "\n",
       "    .dataframe thead th {\n",
       "        text-align: right;\n",
       "    }\n",
       "</style>\n",
       "<table border=\"1\" class=\"dataframe\">\n",
       "  <thead>\n",
       "    <tr style=\"text-align: right;\">\n",
       "      <th></th>\n",
       "      <th>publication_code</th>\n",
       "      <th>issue_id</th>\n",
       "      <th>item_id</th>\n",
       "      <th>newspaper_title</th>\n",
       "      <th>data_provider</th>\n",
       "      <th>date</th>\n",
       "      <th>year</th>\n",
       "      <th>month</th>\n",
       "      <th>day</th>\n",
       "      <th>location</th>\n",
       "      <th>word_count</th>\n",
       "      <th>ocrquality</th>\n",
       "      <th>political_leaning_label</th>\n",
       "      <th>price_label</th>\n",
       "      <th>text</th>\n",
       "    </tr>\n",
       "  </thead>\n",
       "  <tbody>\n",
       "    <tr>\n",
       "      <th>0</th>\n",
       "      <td>2249</td>\n",
       "      <td>624</td>\n",
       "      <td>art0017</td>\n",
       "      <td>The Bee-Hive.</td>\n",
       "      <td>British Library Heritage Made Digital Newspapers</td>\n",
       "      <td>1871-06-24</td>\n",
       "      <td>1871</td>\n",
       "      <td>6</td>\n",
       "      <td>24</td>\n",
       "      <td>London, England</td>\n",
       "      <td>271</td>\n",
       "      <td>0.9098</td>\n",
       "      <td>liberal</td>\n",
       "      <td>1d</td>\n",
       "      <td>THE TICHBORNE CASE.  On Tuesday, before the So...</td>\n",
       "    </tr>\n",
       "    <tr>\n",
       "      <th>1</th>\n",
       "      <td>2250</td>\n",
       "      <td>908</td>\n",
       "      <td>art0002</td>\n",
       "      <td>The Industrial Review, Social and Political.</td>\n",
       "      <td>British Library Heritage Made Digital Newspapers</td>\n",
       "      <td>1877-09-08</td>\n",
       "      <td>1877</td>\n",
       "      <td>9</td>\n",
       "      <td>8</td>\n",
       "      <td>London, England</td>\n",
       "      <td>2791</td>\n",
       "      <td>0.9841</td>\n",
       "      <td>liberal</td>\n",
       "      <td>2d</td>\n",
       "      <td>THE CLERGY AND TRADE UNIONS.  LETTER FROM REV....</td>\n",
       "    </tr>\n",
       "    <tr>\n",
       "      <th>2</th>\n",
       "      <td>2250</td>\n",
       "      <td>406</td>\n",
       "      <td>art0024</td>\n",
       "      <td>The Industrial Review, Social and Political.</td>\n",
       "      <td>British Library Heritage Made Digital Newspapers</td>\n",
       "      <td>1878-04-06</td>\n",
       "      <td>1878</td>\n",
       "      <td>4</td>\n",
       "      <td>6</td>\n",
       "      <td>London, England</td>\n",
       "      <td>304</td>\n",
       "      <td>0.9870</td>\n",
       "      <td>liberal</td>\n",
       "      <td>2d</td>\n",
       "      <td>INDUSTRIAL REVIEW  OUR LEGISLATORS.  THE unrul...</td>\n",
       "    </tr>\n",
       "    <tr>\n",
       "      <th>3</th>\n",
       "      <td>2595</td>\n",
       "      <td>910</td>\n",
       "      <td>art0005</td>\n",
       "      <td>The Forest of Dean Examiner :</td>\n",
       "      <td>British Library Living with Machines Project</td>\n",
       "      <td>1875-09-10</td>\n",
       "      <td>1875</td>\n",
       "      <td>9</td>\n",
       "      <td>10</td>\n",
       "      <td>Blakeney, Gloucestershire, England</td>\n",
       "      <td>185</td>\n",
       "      <td>0.9572</td>\n",
       "      <td>independent</td>\n",
       "      <td>1d</td>\n",
       "      <td>WOOLISTON.  As UNDISTAICLIC IN DIYVICULTY.—A s...</td>\n",
       "    </tr>\n",
       "    <tr>\n",
       "      <th>4</th>\n",
       "      <td>2595</td>\n",
       "      <td>420</td>\n",
       "      <td>art0027</td>\n",
       "      <td>The Forest of Dean Examiner :</td>\n",
       "      <td>British Library Living with Machines Project</td>\n",
       "      <td>1877-04-20</td>\n",
       "      <td>1877</td>\n",
       "      <td>4</td>\n",
       "      <td>20</td>\n",
       "      <td>Blakeney, Gloucestershire, England</td>\n",
       "      <td>113</td>\n",
       "      <td>0.9442</td>\n",
       "      <td>liberal</td>\n",
       "      <td>1d</td>\n",
       "      <td>THE FINE ART CO-OPERATIVE SUPPLY  ASSOCIATION,...</td>\n",
       "    </tr>\n",
       "    <tr>\n",
       "      <th>...</th>\n",
       "      <td>...</td>\n",
       "      <td>...</td>\n",
       "      <td>...</td>\n",
       "      <td>...</td>\n",
       "      <td>...</td>\n",
       "      <td>...</td>\n",
       "      <td>...</td>\n",
       "      <td>...</td>\n",
       "      <td>...</td>\n",
       "      <td>...</td>\n",
       "      <td>...</td>\n",
       "      <td>...</td>\n",
       "      <td>...</td>\n",
       "      <td>...</td>\n",
       "      <td>...</td>\n",
       "    </tr>\n",
       "    <tr>\n",
       "      <th>495</th>\n",
       "      <td>3094</td>\n",
       "      <td>324</td>\n",
       "      <td>art0026</td>\n",
       "      <td>The Slaithwaite Guardian and Colne Valley News.</td>\n",
       "      <td>British Library Living with Machines Project</td>\n",
       "      <td>1905-03-24</td>\n",
       "      <td>1905</td>\n",
       "      <td>3</td>\n",
       "      <td>24</td>\n",
       "      <td>Slaithwaite, West Yorkshire, England</td>\n",
       "      <td>112</td>\n",
       "      <td>0.7263</td>\n",
       "      <td>independent</td>\n",
       "      <td>½ d</td>\n",
       "      <td>BLAITLIK'AITE  there were no wi hirawals, ) th...</td>\n",
       "    </tr>\n",
       "    <tr>\n",
       "      <th>496</th>\n",
       "      <td>3104</td>\n",
       "      <td>125</td>\n",
       "      <td>art0010</td>\n",
       "      <td>Bargoed Journal.</td>\n",
       "      <td>British Library Living with Machines Project</td>\n",
       "      <td>1912-01-25</td>\n",
       "      <td>1912</td>\n",
       "      <td>1</td>\n",
       "      <td>25</td>\n",
       "      <td>Gelligaer, Mid Glamorgan, Wales</td>\n",
       "      <td>2</td>\n",
       "      <td>0.8350</td>\n",
       "      <td>independent</td>\n",
       "      <td>1d</td>\n",
       "      <td>A 4</td>\n",
       "    </tr>\n",
       "    <tr>\n",
       "      <th>497</th>\n",
       "      <td>3104</td>\n",
       "      <td>1008</td>\n",
       "      <td>art0011</td>\n",
       "      <td>Bargoed Journal.</td>\n",
       "      <td>British Library Living with Machines Project</td>\n",
       "      <td>1904-10-08</td>\n",
       "      <td>1904</td>\n",
       "      <td>10</td>\n",
       "      <td>8</td>\n",
       "      <td>Gelligaer, Mid Glamorgan, Wales</td>\n",
       "      <td>3</td>\n",
       "      <td>0.8667</td>\n",
       "      <td>independent</td>\n",
       "      <td>1d</td>\n",
       "      <td>Pipture  Rost Cards</td>\n",
       "    </tr>\n",
       "    <tr>\n",
       "      <th>498</th>\n",
       "      <td>3406</td>\n",
       "      <td>125</td>\n",
       "      <td>art0046</td>\n",
       "      <td>Nantwich, Sandbach &amp; Crewe Star</td>\n",
       "      <td>British Library Living with Machines Project</td>\n",
       "      <td>1890-01-25</td>\n",
       "      <td>1890</td>\n",
       "      <td>1</td>\n",
       "      <td>25</td>\n",
       "      <td>NaN</td>\n",
       "      <td>176</td>\n",
       "      <td>0.8100</td>\n",
       "      <td>liberal</td>\n",
       "      <td>½ d</td>\n",
       "      <td>„ E S 3 8 Lunn ATCH  Is Better Value than any ...</td>\n",
       "    </tr>\n",
       "    <tr>\n",
       "      <th>499</th>\n",
       "      <td>3408</td>\n",
       "      <td>421</td>\n",
       "      <td>art0067</td>\n",
       "      <td>The Dewsbury Chronicle, and West Riding Advert...</td>\n",
       "      <td>British Library Living with Machines Project</td>\n",
       "      <td>1894-04-21</td>\n",
       "      <td>1894</td>\n",
       "      <td>4</td>\n",
       "      <td>21</td>\n",
       "      <td>Dewsbury, West Yorkshire, England</td>\n",
       "      <td>0</td>\n",
       "      <td>0.0000</td>\n",
       "      <td>conservative</td>\n",
       "      <td>1d</td>\n",
       "      <td></td>\n",
       "    </tr>\n",
       "  </tbody>\n",
       "</table>\n",
       "<p>500 rows × 15 columns</p>\n",
       "</div>"
      ],
      "text/plain": [
       "     publication_code  issue_id  item_id  \\\n",
       "0                2249       624  art0017   \n",
       "1                2250       908  art0002   \n",
       "2                2250       406  art0024   \n",
       "3                2595       910  art0005   \n",
       "4                2595       420  art0027   \n",
       "..                ...       ...      ...   \n",
       "495              3094       324  art0026   \n",
       "496              3104       125  art0010   \n",
       "497              3104      1008  art0011   \n",
       "498              3406       125  art0046   \n",
       "499              3408       421  art0067   \n",
       "\n",
       "                                       newspaper_title  \\\n",
       "0                                        The Bee-Hive.   \n",
       "1         The Industrial Review, Social and Political.   \n",
       "2         The Industrial Review, Social and Political.   \n",
       "3                        The Forest of Dean Examiner :   \n",
       "4                        The Forest of Dean Examiner :   \n",
       "..                                                 ...   \n",
       "495    The Slaithwaite Guardian and Colne Valley News.   \n",
       "496                                   Bargoed Journal.   \n",
       "497                                   Bargoed Journal.   \n",
       "498                    Nantwich, Sandbach & Crewe Star   \n",
       "499  The Dewsbury Chronicle, and West Riding Advert...   \n",
       "\n",
       "                                        data_provider        date  year  \\\n",
       "0    British Library Heritage Made Digital Newspapers  1871-06-24  1871   \n",
       "1    British Library Heritage Made Digital Newspapers  1877-09-08  1877   \n",
       "2    British Library Heritage Made Digital Newspapers  1878-04-06  1878   \n",
       "3        British Library Living with Machines Project  1875-09-10  1875   \n",
       "4        British Library Living with Machines Project  1877-04-20  1877   \n",
       "..                                                ...         ...   ...   \n",
       "495      British Library Living with Machines Project  1905-03-24  1905   \n",
       "496      British Library Living with Machines Project  1912-01-25  1912   \n",
       "497      British Library Living with Machines Project  1904-10-08  1904   \n",
       "498      British Library Living with Machines Project  1890-01-25  1890   \n",
       "499      British Library Living with Machines Project  1894-04-21  1894   \n",
       "\n",
       "     month  day                              location  word_count  ocrquality  \\\n",
       "0        6   24                       London, England         271      0.9098   \n",
       "1        9    8                       London, England        2791      0.9841   \n",
       "2        4    6                       London, England         304      0.9870   \n",
       "3        9   10    Blakeney, Gloucestershire, England         185      0.9572   \n",
       "4        4   20    Blakeney, Gloucestershire, England         113      0.9442   \n",
       "..     ...  ...                                   ...         ...         ...   \n",
       "495      3   24  Slaithwaite, West Yorkshire, England         112      0.7263   \n",
       "496      1   25       Gelligaer, Mid Glamorgan, Wales           2      0.8350   \n",
       "497     10    8       Gelligaer, Mid Glamorgan, Wales           3      0.8667   \n",
       "498      1   25                                   NaN         176      0.8100   \n",
       "499      4   21     Dewsbury, West Yorkshire, England           0      0.0000   \n",
       "\n",
       "    political_leaning_label price_label  \\\n",
       "0                   liberal          1d   \n",
       "1                   liberal          2d   \n",
       "2                   liberal          2d   \n",
       "3               independent          1d   \n",
       "4                   liberal          1d   \n",
       "..                      ...         ...   \n",
       "495             independent         ½ d   \n",
       "496             independent          1d   \n",
       "497             independent          1d   \n",
       "498                 liberal         ½ d   \n",
       "499            conservative          1d   \n",
       "\n",
       "                                                  text  \n",
       "0    THE TICHBORNE CASE.  On Tuesday, before the So...  \n",
       "1    THE CLERGY AND TRADE UNIONS.  LETTER FROM REV....  \n",
       "2    INDUSTRIAL REVIEW  OUR LEGISLATORS.  THE unrul...  \n",
       "3    WOOLISTON.  As UNDISTAICLIC IN DIYVICULTY.—A s...  \n",
       "4    THE FINE ART CO-OPERATIVE SUPPLY  ASSOCIATION,...  \n",
       "..                                                 ...  \n",
       "495  BLAITLIK'AITE  there were no wi hirawals, ) th...  \n",
       "496                                               A 4   \n",
       "497                               Pipture  Rost Cards   \n",
       "498  „ E S 3 8 Lunn ATCH  Is Better Value than any ...  \n",
       "499                                                     \n",
       "\n",
       "[500 rows x 15 columns]"
      ]
     },
     "execution_count": 33,
     "metadata": {},
     "output_type": "execute_result"
    }
   ],
   "source": [
    "df = pd.read_csv('data/subsample500mixedocr-selected_mitch.csv')\n",
    "df['text'] = df['text'].fillna('')\n",
    "df"
   ]
  },
  {
   "cell_type": "code",
   "execution_count": 34,
   "metadata": {},
   "outputs": [
    {
     "name": "stderr",
     "output_type": "stream",
     "text": [
      "100%|██████████| 500/500 [00:00<00:00, 37982.25it/s]\n"
     ]
    }
   ],
   "source": [
    "sentences = []\n",
    "for sentence in tqdm(df['text']):\n",
    "    # tokenize\n",
    "    tokenized_sentence = [token for token in sentence.split()]\n",
    "    sentences.append(tokenized_sentence)\n",
    "\n",
    "w2v_model = Word2Vec(min_count=5, # how often a word should appear to be included\n",
    "                    window=5, # how many words before and after count as context\n",
    "                    sg=1, # SkipGram? 0 = False, 1 = True Else: CBoW. Note: Default is 0\n",
    "                    vector_size=100) # Change to 'size' if TypeError \n",
    "\n",
    "w2v_model.build_vocab(sentences) # Build vocabulary\n",
    "\n",
    "w2v_model.train(sentences, \n",
    "                total_examples=w2v_model.corpus_count,\n",
    "                epochs=5)\n",
    "\n",
    "\n",
    "w2v_model.save(\"test-model\") # Save the full model (in case we'd like to update it in the future)\n",
    "w2v_model.wv.save_word2vec_format('test-model-vectors.txt', binary=False) # Also save the vectors only (easier to work with) - Not necessary, of course\n"
   ]
  },
  {
   "cell_type": "code",
   "execution_count": 35,
   "metadata": {},
   "outputs": [],
   "source": [
    "pretrained_model = Word2Vec.load('test-model')\n",
    "pretrained_vectors = pretrained_model.wv"
   ]
  },
  {
   "cell_type": "code",
   "execution_count": 36,
   "metadata": {},
   "outputs": [
    {
     "data": {
      "text/plain": [
       "array([-4.07435670e-02,  4.82221246e-02, -1.26399338e-01,  1.19198330e-01,\n",
       "       -3.19051117e-01, -2.00563461e-01,  2.66091645e-01,  5.40644467e-01,\n",
       "       -8.02299157e-02, -6.79334626e-02,  1.05321862e-01, -3.91232176e-03,\n",
       "       -3.80842723e-02, -3.12250070e-02, -1.08509034e-01, -3.46250057e-01,\n",
       "        2.31667772e-01, -1.48237228e-01, -4.67734367e-01, -7.32428908e-01,\n",
       "        3.33125800e-01, -1.10451683e-01,  3.29111218e-01, -1.78377777e-01,\n",
       "       -1.70528695e-01, -6.12703897e-02, -3.22004050e-01, -1.21248476e-01,\n",
       "       -4.36543263e-02,  1.80470973e-01,  2.68616647e-01, -6.58539385e-02,\n",
       "        1.10257179e-01, -7.73772597e-02, -4.39629816e-02,  1.28746375e-01,\n",
       "       -4.46170308e-02, -7.93034807e-02, -2.49454692e-01,  1.45751908e-01,\n",
       "        2.49473765e-01, -7.90334940e-02,  2.15596799e-02, -7.04649985e-02,\n",
       "        3.18996646e-02, -1.79331690e-01, -7.97476247e-02, -1.68486208e-01,\n",
       "        2.33448207e-01, -4.60004471e-02,  3.39087039e-01, -1.90858796e-01,\n",
       "        4.06758338e-02,  7.23394826e-02, -1.41528457e-01, -1.27009735e-01,\n",
       "        2.58449614e-01, -4.40048650e-02, -1.42138556e-01, -1.36754900e-01,\n",
       "        1.46385664e-02, -3.06708246e-01,  4.90839273e-01, -1.38700381e-01,\n",
       "       -1.94302648e-01,  2.18769237e-01,  7.41543621e-02,  1.98653817e-01,\n",
       "       -2.68725514e-01,  1.83730386e-02, -4.61654067e-02,  5.42931668e-02,\n",
       "        9.30272564e-02,  7.69479647e-02,  2.76859462e-01, -1.23410746e-02,\n",
       "        2.62055278e-01, -3.43391895e-02,  1.04296535e-01,  4.22746874e-02,\n",
       "       -2.60232478e-01,  4.52355631e-02, -1.66164830e-01,  1.95760012e-01,\n",
       "       -1.76952153e-01, -2.00374201e-01,  2.53727227e-01,  1.87967166e-01,\n",
       "       -1.86460540e-01,  8.52568820e-02,  3.59397978e-01, -5.98659702e-02,\n",
       "        5.90269919e-04, -2.52118200e-01,  1.06262587e-01,  1.12180211e-01,\n",
       "       -5.45210280e-02, -3.08351535e-02,  5.77859208e-02,  1.89192772e-01],\n",
       "      dtype=float32)"
      ]
     },
     "execution_count": 36,
     "metadata": {},
     "output_type": "execute_result"
    }
   ],
   "source": [
    "pretrained_vectors['man']"
   ]
  },
  {
   "cell_type": "code",
   "execution_count": 37,
   "metadata": {},
   "outputs": [
    {
     "data": {
      "text/plain": [
       "[('gave', 0.9391635656356812),\n",
       " ('child', 0.934425950050354),\n",
       " ('woman', 0.9342454671859741),\n",
       " ('himself', 0.93253093957901),\n",
       " ('mother', 0.9282842874526978),\n",
       " ('prisoner', 0.928175687789917),\n",
       " ('young', 0.9280403852462769),\n",
       " ('lady', 0.9278395175933838),\n",
       " ('man,', 0.9268894791603088),\n",
       " ('witness', 0.9267450571060181)]"
      ]
     },
     "execution_count": 37,
     "metadata": {},
     "output_type": "execute_result"
    }
   ],
   "source": [
    "pretrained_vectors.most_similar(positive='man', topn=10)"
   ]
  },
  {
   "cell_type": "markdown",
   "metadata": {},
   "source": [
    "This is not to be interpreted as it is, since we're working with a very small sample, formed with no real criterion. Instead, let's load a Word2Vec model that was trained on the actual collection, to give you an idea of what you may obtain from a bigger sample of your own. Let's just look at the model trained on all articles from the 1870s:"
   ]
  },
  {
   "cell_type": "markdown",
   "metadata": {},
   "source": [
    "First download the model:"
   ]
  },
  {
   "cell_type": "markdown",
   "metadata": {},
   "source": [
    "https://drive.google.com/file/d/1egpShoJz-q7FFLovUBVXHMZXyVIiLbsr/view?usp=sharing"
   ]
  },
  {
   "cell_type": "code",
   "execution_count": 38,
   "metadata": {},
   "outputs": [
    {
     "name": "stdout",
     "output_type": "stream",
     "text": [
      "Downloading...\n",
      "From (original): https://drive.google.com/uc?id=1abhIdj1r8pS0x-Eqxe-A0IvBOQSEYByO\n",
      "From (redirected): https://drive.google.com/uc?id=1abhIdj1r8pS0x-Eqxe-A0IvBOQSEYByO&confirm=t&uuid=ec1061e3-f740-4444-9c2b-adbb4c6345a0\n",
      "To: /Users/npedrazzini/Desktop/newspapers/workshops/workshop_october_2024/1870s-vectors.txt\n",
      "100%|████████████████████████████████████████| 110M/110M [00:05<00:00, 21.9MB/s]\n"
     ]
    }
   ],
   "source": [
    "!gdown 'https://drive.google.com/uc?id=1abhIdj1r8pS0x-Eqxe-A0IvBOQSEYByO' "
   ]
  },
  {
   "cell_type": "code",
   "execution_count": 39,
   "metadata": {},
   "outputs": [],
   "source": [
    "pretrained_vectors = KeyedVectors.load_word2vec_format('1870s-vectors.txt')"
   ]
  },
  {
   "cell_type": "code",
   "execution_count": 40,
   "metadata": {},
   "outputs": [
    {
     "data": {
      "text/plain": [
       "[('nian', 0.8242271542549133),\n",
       " ('woman', 0.823756217956543),\n",
       " ('villian', 0.797010600566864),\n",
       " ('inan', 0.795364499092102),\n",
       " ('men', 0.7938154935836792),\n",
       " ('gentleman', 0.7937560677528381),\n",
       " ('person', 0.7887369990348816),\n",
       " ('mau', 0.7865301370620728),\n",
       " ('soldier', 0.7853782773017883),\n",
       " ('frenchman', 0.7830896973609924),\n",
       " ('irishman', 0.7828250527381897),\n",
       " ('countrywoman', 0.7811675071716309),\n",
       " ('duellist', 0.7762956619262695),\n",
       " ('traveler', 0.7753073573112488),\n",
       " ('bargeman', 0.774891197681427),\n",
       " ('ruan', 0.7729703783988953),\n",
       " ('thatshe', 0.7646286487579346),\n",
       " ('peope', 0.7629625797271729),\n",
       " ('englishman', 0.7624946236610413),\n",
       " ('theman', 0.7619644403457642)]"
      ]
     },
     "execution_count": 40,
     "metadata": {},
     "output_type": "execute_result"
    }
   ],
   "source": [
    "pretrained_vectors.most_similar(positive='man', topn=20)"
   ]
  }
 ],
 "metadata": {
  "kernelspec": {
   "display_name": "Python 3",
   "language": "python",
   "name": "python3"
  },
  "language_info": {
   "codemirror_mode": {
    "name": "ipython",
    "version": 3
   },
   "file_extension": ".py",
   "mimetype": "text/x-python",
   "name": "python",
   "nbconvert_exporter": "python",
   "pygments_lexer": "ipython3",
   "version": "3.10.3"
  }
 },
 "nbformat": 4,
 "nbformat_minor": 2
}
