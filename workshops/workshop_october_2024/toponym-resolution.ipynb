{
 "cells": [
  {
   "cell_type": "markdown",
   "metadata": {},
   "source": [
    "# Toponym Resolution with T-Res\n",
    "\n",
    "TODO: \n",
    " - briefly explain T-Res.\n",
    " - explain what is an HTTP API (and that it relies on the server running)."
   ]
  },
  {
   "cell_type": "code",
   "execution_count": 144,
   "metadata": {},
   "outputs": [],
   "source": [
    "import requests\n",
    "import operator\n",
    "from dataclasses import dataclass\n",
    "from dacite import from_dict"
   ]
  },
  {
   "cell_type": "markdown",
   "metadata": {},
   "source": [
    "Helper functions for calling the T-Res API and parsing the response:"
   ]
  },
  {
   "cell_type": "code",
   "execution_count": 145,
   "metadata": {},
   "outputs": [],
   "source": [
    "HOST = \"20.0.184.45\"\n",
    "API_URL = f\"http://{HOST}:8000/v2/t-res_deezy_reldisamb-wpubl-wmtops\"\n",
    "\n",
    "@dataclass\n",
    "class Toponym:\n",
    "    mention: str\n",
    "    sentence: str\n",
    "    pos: int\n",
    "    end_pos: int\n",
    "    prediction: str\n",
    "    cross_cand_score: dict\n",
    "    latlon: list\n",
    "    wkdt_class: str\n",
    "    string_match_score: dict\n",
    "    \n",
    "    def __str__(self):\n",
    "        toponym = self.toponym()\n",
    "        s = f\"Toponym:\\t{toponym}\"\n",
    "        if self.mention != toponym:\n",
    "            s += f\"\\nMention:\\t{self.mention}\"    \n",
    "        s += f\"\\nWikidata ID:\\t{self.prediction}\"\n",
    "        s += f\"\\nCoordinates:\\t{self.latlon}\"\n",
    "        s += f\"\\nLinking score:\\t{self.cross_cand_score[self.prediction]}\"\n",
    "        return s\n",
    "\n",
    "    def __repr__(self):\n",
    "        return self.__str__()\n",
    "    \n",
    "    def toponym(self):\n",
    "        # Identify the best string match.\n",
    "        d = {i[0]: i[1][0] for i in self.string_match_score.items()}\n",
    "        return max(d.items(), key=operator.itemgetter(1))[0]\n",
    "\n",
    "class Toponyms:\n",
    "    toponyms: list\n",
    "\n",
    "    def __init__(self, data):\n",
    "        if not isinstance(data, list):\n",
    "            raise ValueError(\"Toponyms data must be a list.\")\n",
    "        self.toponyms = [from_dict(data_class=Toponym, data=t) for t in data]\n",
    "\n",
    "    def __str__(self):\n",
    "        if not self.toponyms:\n",
    "            return \"Empty list of toponyms.\"\n",
    "        return '\\n\\n'.join([t.__str__() for t in self.toponyms])\n",
    "\n",
    "    def __repr__(self):\n",
    "        return self.__str__()\n",
    "\n",
    "def validate_query(query):\n",
    "    if not \"text\" in query.keys():\n",
    "        raise ValueError(\"T-Res API query must contain an item named `text`\")\n",
    "    return\n",
    "\n",
    "def call_api(query, parse = True):\n",
    "    validate_query(query)\n",
    "    response = requests.get(f'{API_URL}/toponym_resolution', json=query)\n",
    "    if not parse:\n",
    "        return response\n",
    "    return parse_api_response(response)\n",
    "\n",
    "def parse_api_response(response):\n",
    "    if response.status_code != 200:\n",
    "        print(f\"HTTP error code: {response.status_code}\")\n",
    "        print(f\"Reason: {response.reason}\")\n",
    "    result = Toponyms(response.json())\n",
    "    if len(result.toponyms) == 1:\n",
    "        return result.toponyms[0]\n",
    "    return result"
   ]
  },
  {
   "cell_type": "markdown",
   "metadata": {},
   "source": [
    "### Simple example of toponym resolution from text"
   ]
  },
  {
   "cell_type": "code",
   "execution_count": null,
   "metadata": {},
   "outputs": [],
   "source": [
    "query = {\"text\": \"A remarkable case of rattening has just occurred in the building trade at Newtown.\"}\n",
    "result = call_api(query)\n",
    "result"
   ]
  },
  {
   "cell_type": "markdown",
   "metadata": {},
   "source": [
    "### Example with place of publication information"
   ]
  },
  {
   "cell_type": "code",
   "execution_count": null,
   "metadata": {},
   "outputs": [],
   "source": [
    "query = {\n",
    "        \"text\": \"A remarkable case of rattening has just occurred in the building trade at Newtown.\",\n",
    "        \"place\": \"Powys\",\n",
    "        \"place_wqid\": \"Q156150\"\n",
    "        }\n",
    "result = call_api(query)\n",
    "result"
   ]
  },
  {
   "cell_type": "markdown",
   "metadata": {},
   "source": [
    "### Example with OCR error"
   ]
  },
  {
   "cell_type": "code",
   "execution_count": null,
   "metadata": {},
   "outputs": [],
   "source": [
    "query = {\"text\": \"A remarkable case of rattening has just occurred in the building trade at Shefiield.\"}\n",
    "result = call_api(query)\n",
    "result"
   ]
  },
  {
   "cell_type": "markdown",
   "metadata": {},
   "source": [
    "### Example with multiple toponyms"
   ]
  },
  {
   "cell_type": "code",
   "execution_count": null,
   "metadata": {},
   "outputs": [],
   "source": [
    "query = {\"text\": \"A remarkable case of rattening has just occurred in the building trade at Shefiield, but also in Leeds. Not in London though.\"}\n",
    "result = call_api(query)\n",
    "result"
   ]
  },
  {
   "cell_type": "code",
   "execution_count": null,
   "metadata": {},
   "outputs": [],
   "source": []
  }
 ],
 "metadata": {
  "kernelspec": {
   "display_name": "htop",
   "language": "python",
   "name": "htop"
  },
  "language_info": {
   "codemirror_mode": {
    "name": "ipython",
    "version": 3
   },
   "file_extension": ".py",
   "mimetype": "text/x-python",
   "name": "python",
   "nbconvert_exporter": "python",
   "pygments_lexer": "ipython3",
   "version": "3.12.4"
  }
 },
 "nbformat": 4,
 "nbformat_minor": 2
}
