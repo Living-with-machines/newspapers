{
 "cells": [
  {
   "cell_type": "markdown",
   "metadata": {},
   "source": [
    "# Toponym Resolution with T-Res\n",
    "\n",
    "This notebook demonstrates the use of the T-Res HTTP API for performing toponym resolution.\n",
    "\n",
    "Toponym resolution refers to the task of identifying place names (toponyms) in a piece of text and linking each of them to a known physical location.\n",
    "\n",
    "This process involves three distinct steps:\n",
    " 1. **named entity recognition** to identify which characters in the text are in fact toponyms\n",
    " 1. **candidate selection** to generate a list of candidate places within a knowledge base\n",
    " 1. **entity linking** to determine which candidate place is the best match for the given toponym\n",
    "\n",
    "[T-Res](https://github.com/Living-with-machines/T-Res) is a software tool that provides an end-to-end pipeline for toponym resolution, using [Wikidata](https://www.wikidata.org/wiki/Wikidata:Main_Page) as its knowledge base.\n",
    "\n",
    "The T-Res HTTP API enables users to make toponym resolution queries to a remote server via an HTTP connection.\n",
    "\n",
    "To run the examples in this notebook a server must be available to handle the API requests. During the workshop, such a server will be provided with the host IP address given below.\n",
    "\n",
    "Technical documentation on T-Res can be found [here](https://living-with-machines.github.io/T-Res/index.html). Developers may also find the [API docs](http://20.0.184.45:8000/v2/t-res_deezy_reldisamb-wpubl-wmtops/docs) useful."
   ]
  },
  {
   "cell_type": "markdown",
   "metadata": {},
   "source": [
    "## Setup\n",
    "\n",
    "Let's begin by importing some Python libraries:"
   ]
  },
  {
   "cell_type": "code",
   "execution_count": 196,
   "metadata": {},
   "outputs": [],
   "source": [
    "import requests\n",
    "import operator\n",
    "from typing import Optional\n",
    "from dataclasses import dataclass\n",
    "from dacite import from_dict"
   ]
  },
  {
   "cell_type": "markdown",
   "metadata": {},
   "source": [
    "Next, we specify the hostname and URL for connecting to the server running the T-Res API."
   ]
  },
  {
   "cell_type": "code",
   "execution_count": 197,
   "metadata": {},
   "outputs": [],
   "source": [
    "HOST = \"20.0.184.45\"\n",
    "API_URL = f\"http://{HOST}:8000/v2/t-res_deezy_reldisamb-wpubl-wmtops\""
   ]
  },
  {
   "cell_type": "markdown",
   "metadata": {},
   "source": [
    "The following Helper functions will make it easy to call the T-Res API and handle the response:"
   ]
  },
  {
   "cell_type": "code",
   "execution_count": 284,
   "metadata": {},
   "outputs": [],
   "source": [
    "@dataclass\n",
    "class Toponym:\n",
    "    mention: str\n",
    "    sentence: str\n",
    "    pos: int\n",
    "    end_pos: int\n",
    "    tag: str\n",
    "    prediction: str\n",
    "    cross_cand_score: dict\n",
    "    latlon: Optional[list]\n",
    "    wkdt_class: Optional[str]\n",
    "    string_match_score: dict\n",
    "    \n",
    "    def __str__(self):\n",
    "        toponym = self.toponym()\n",
    "        s = f\"Toponym:\\t{toponym}\"\n",
    "        if self.mention != toponym:\n",
    "            s += f\"\\nMention:\\t{self.mention}\"\n",
    "        if self.tag != 'LOC':\n",
    "            s += f\"\\nTag:\\t\\t{self.tag}\"\n",
    "        if self.prediction != 'NIL':\n",
    "            s += f\"\\nWikidata link:\\thttps://www.wikidata.org/wiki/{self.prediction}\"\n",
    "        s += f\"\\nCoordinates:\\t{self.latlon}\"\n",
    "        if self.prediction in self.cross_cand_score.keys():\n",
    "            s += f\"\\nLinking score:\\t{self.cross_cand_score[self.prediction]}\"\n",
    "        return s\n",
    "\n",
    "    def __repr__(self):\n",
    "        return self.__str__()\n",
    "    \n",
    "    def toponym(self):\n",
    "        if not self.string_match_score:\n",
    "            return None\n",
    "        # Identify the best string match.\n",
    "        d = {i[0]: i[1][0] for i in self.string_match_score.items()}\n",
    "        return max(d.items(), key=operator.itemgetter(1))[0]\n",
    "\n",
    "class Toponyms:\n",
    "    toponyms: list\n",
    "\n",
    "    def __init__(self, data):\n",
    "        if not isinstance(data, list):\n",
    "            raise ValueError(\"Toponyms data must be a list.\")\n",
    "        self.toponyms = [from_dict(data_class=Toponym, data=t) for t in data]\n",
    "\n",
    "    def __str__(self):\n",
    "        if not self.toponyms:\n",
    "            return \"Empty list of toponyms.\"\n",
    "        return '\\n\\n'.join([t.__str__() for t in self.toponyms])\n",
    "\n",
    "    def __repr__(self):\n",
    "        return self.__str__()\n",
    "\n",
    "def validate_query(query):\n",
    "    if not \"text\" in query.keys():\n",
    "        raise ValueError(\"T-Res API query must contain an item named `text`\")\n",
    "    return\n",
    "\n",
    "def call_api(query, parse = True):\n",
    "    validate_query(query)\n",
    "    response = requests.get(f'{API_URL}/toponym_resolution', json=query)\n",
    "    if not parse:\n",
    "        return response\n",
    "    return parse_api_response(response)\n",
    "\n",
    "def parse_api_response(response):\n",
    "    if response.status_code != 200:\n",
    "        print(f\"HTTP error code: {response.status_code}\")\n",
    "        print(f\"Reason: {response.reason}\")\n",
    "    result = Toponyms(response.json())\n",
    "    if len(result.toponyms) == 1:\n",
    "        return result.toponyms[0]\n",
    "    return result"
   ]
  },
  {
   "cell_type": "markdown",
   "metadata": {},
   "source": [
    "## Toponym resolution examples\n",
    "\n",
    "We're now ready to query the API by sending chunks of input text. The following examples use snippets of newspaper articles drawn from the \"Living with Machines\" digitised collection."
   ]
  },
  {
   "cell_type": "markdown",
   "metadata": {},
   "source": [
    "### Simple toponym resolution from text\n",
    "\n",
    "A simple toponym resolution query involves submitting a passage of plain text the T-Res API. \n",
    "\n",
    "The response (after parsing) includes the ID of the best match in the Wikidata knowledgebase, its latitude-longitude coordinates and the linking score (between 0 and 1), which can be interpreted as a measure of confidence in the accuracy of the match.\n",
    "\n",
    "Here are two examples:"
   ]
  },
  {
   "cell_type": "code",
   "execution_count": null,
   "metadata": {},
   "outputs": [],
   "source": [
    "# Source: The Herald of Wales and Monmouthshire Recorder, 1884-05-24.\n",
    "query = {\"text\": \"He was sure there was no man in the profession in Swansea who could be more honoured end trusted and more highly respected by his professional brethren than Mr. Davies, being in every way such as a solicitor ought to be.\"}\n",
    "call_api(query)"
   ]
  },
  {
   "cell_type": "code",
   "execution_count": null,
   "metadata": {},
   "outputs": [],
   "source": [
    "# Source: The Dewsbury Chronicle, and West Riding Advertiser, 1882-04-29.\n",
    "query = {\"text\": \"It was also expected that Mr. C. Beckett Denison and other prominent members of the Conservative party would take part in the demonstration, and an effort will be made to obtain the presence of Viscount Cranbrooke, Mr. J. Lowther, M.P , and the Hon. G. C. Dawnay, M.P., for the North Riding.\"}\n",
    "call_api(query)"
   ]
  },
  {
   "cell_type": "markdown",
   "metadata": {},
   "source": [
    "### Example with multiple toponyms\n",
    "\n",
    "If there is more than one toponym in the text T-Res returns the results in a list, as in this example:"
   ]
  },
  {
   "cell_type": "code",
   "execution_count": null,
   "metadata": {},
   "outputs": [],
   "source": [
    "# Source: The Blackpool Herald, 1891-08-28.\n",
    "query = {\"text\": \"On the same morning Captain Seed and the men of the steamer Bickerstaffe,. succeeded in saving the crew of the schooner Gefion, of Norway, which struck on the Spencer Bank, off Southport.\"}\n",
    "call_api(query)"
   ]
  },
  {
   "cell_type": "markdown",
   "metadata": {},
   "source": [
    "Note that the sentence contains several other proper nouns (Captain Seed, Bickerstaffe, Gefion) that are not toponyms, which T-Res correctly ignores.\n",
    "\n",
    "There is another one, \"Spencer Bank\", which could be considered an edge case. It refers to an elevation of the sea floor off the coast of Southport. T-Res does not identify this as a toponym.\n",
    "\n",
    "The named entity \"Bickerstaffe\" is interesting, in that it refers to a ship in the above example but is also the name of a nearby village in Lancashire. T-Res is able to distinguish between these two cases from the context. Indeed, if we slightly modify the sentence the same named entity is identified as a toponym:"
   ]
  },
  {
   "cell_type": "code",
   "execution_count": null,
   "metadata": {},
   "outputs": [],
   "source": [
    "# Source: The Blackpool Herald, 1891-08-28. *Modified*\n",
    "query = {\"text\": \"On the same morning Captain Seed and the men on their way to Bickerstaffe succeeded in saving the crew of the schooner Gefion, of Norway, which struck on the Spencer Bank, off Southport.\"}\n",
    "call_api(query)"
   ]
  },
  {
   "cell_type": "markdown",
   "metadata": {},
   "source": [
    "### Example with place of publication information\n",
    "\n",
    "If the place of publication is known, this information can be included in the query. This additional metadata is used by T-Res to improve the quality of the entity linking step.\n",
    "\n",
    "In this example the text is identical to an earlier query, but this time time we also include the name of the town (Blackpool) in which the newspaper was published *and* its Wikidata ID.\n",
    "\n",
    "We see that the confidence of the link is significantly improved in the case of Southport (a town close to Blackpool), while for Norway the linking score is approximately unchanged."
   ]
  },
  {
   "cell_type": "code",
   "execution_count": null,
   "metadata": {},
   "outputs": [],
   "source": [
    "# Source: The Blackpool Herald, 1891-08-28.\n",
    "query = {\n",
    "    \"text\": \"On the same morning Captain Seed and the men of the steamer Bickerstaffe,. succeeded in saving the crew of the schooner Gefion, of Norway, which struck on the Spencer Bank, off Southport.\",\n",
    "    \"place\": \"Blackpool, Lancashire, England\",\n",
    "    \"place_wqid\": \"Q170377\"\n",
    "    }\n",
    "call_api(query)"
   ]
  },
  {
   "cell_type": "markdown",
   "metadata": {},
   "source": [
    "### Example of successful linking despite OCR error\n",
    "\n",
    "T-Res uses fuzzy string matching to identify named entities, so it may be able to find the correct link even when the digitisation process has introduced a misspelled toponym."
   ]
  },
  {
   "cell_type": "code",
   "execution_count": null,
   "metadata": {},
   "outputs": [],
   "source": [
    "query = {\"text\": \"A remarkable case of rattening has just occurred in the building trade at Shefiield.\"}\n",
    "call_api(query)"
   ]
  },
  {
   "cell_type": "markdown",
   "metadata": {},
   "source": [
    "### Example of a toponym of type 'BUILDING'\n",
    "\n",
    "Toponyms in T-Res are labelled with a \"Tag\" property, referring to the type of the named entity.\n",
    "\n",
    "The most common tag is \"LOC\" (for location) but if the best match is a specific building, as in the following example, this will be reflected in the \"Tag\":"
   ]
  },
  {
   "cell_type": "code",
   "execution_count": null,
   "metadata": {},
   "outputs": [],
   "source": [
    "query = {\"text\": \"A large crowd gathered, and plenty of volunteers aided in the work of rescue, whilst ambulances and stretchers were fetched from the Middlesex Hospital.\"}\n",
    "call_api(query)"
   ]
  },
  {
   "cell_type": "markdown",
   "metadata": {},
   "source": [
    "### Example of a place linking error\n",
    "\n",
    "In this example, three toponyms are identified but not all of them are successfully linked to places in the knowledgebase."
   ]
  },
  {
   "cell_type": "code",
   "execution_count": null,
   "metadata": {},
   "outputs": [],
   "source": [
    "# Source: The Stourbridge Observer, 1882-12-09.\n",
    "query = {\n",
    "    \"text\": \"Early on Monday morning a fire was discovered ois the premises of Mr. .Toseph Boyle, woollen manufacturer, Prospect Mill, at Longwood, near Huddersfield, and before the flames could be extinguished they had done damage to the extent of about ¬£16,000 or ¬£17,000.\",\n",
    "    \"place\": \"Stourbridge, West Midlands, England\",\n",
    "    \"place_wqid\": \"Q661707\"\n",
    "    }\n",
    "result = call_api(query)\n",
    "result"
   ]
  },
  {
   "cell_type": "markdown",
   "metadata": {},
   "source": [
    "The first named entity is \"Prospect Mill\", which is correctly tagged as a BUILDING but no match is found in Wikidata. \n",
    "\n",
    "The third entity is \"Huddersfield\", which is correctly linked to Wikidata ID [Q201812](https://www.wikidata.org/wiki/Q201812).\n",
    "\n",
    "The second entity, \"Longwood\", is an example of a place linking error. It is linked (erroneously) to Wikidata ID [Q6674497](https://www.wikidata.org/wiki/Q6674497), which is a neighbourhood in New York City. It is clear from the text that the correct match for Longwood is [Q6674506](https://www.wikidata.org/wiki/Q6674506), a suburb of Huddersfield, West Yorkshire.\n",
    "\n",
    "The reason for this error is that Longwood, New York, is a more prominent entry in Wikidata (specifically, there are more links to that entry than to other places with a similar name) and this information is used by T-Res when seeking the most probable link. We can look at the scores assigned by T-Res to each candidate place, by printing the `cross_cand_score` attribute for that toponym:"
   ]
  },
  {
   "cell_type": "code",
   "execution_count": null,
   "metadata": {},
   "outputs": [],
   "source": [
    "result.toponyms[1].cross_cand_score"
   ]
  },
  {
   "cell_type": "markdown",
   "metadata": {},
   "source": [
    "Here we see that the correct link (Q6674506) scored 0.19, while the incorrect one (Q6674497) scored 0.32.\n",
    "\n",
    "This example demonstrates that T-Res, like any automated (or indeed manual) system for place linking, is not perfectly accurate. Improvements to the place linking algorithm are part of the current development effort on T-Res."
   ]
  },
  {
   "cell_type": "markdown",
   "metadata": {},
   "source": [
    "## Your turn\n",
    "\n",
    "Using the examples above, try out the T-Res API with your own text inputs. These could come from the open newspapers collection made available earlier in the workshop, or from any other source you like!"
   ]
  },
  {
   "cell_type": "markdown",
   "metadata": {},
   "source": []
  }
 ],
 "metadata": {
  "kernelspec": {
   "display_name": "htop",
   "language": "python",
   "name": "htop"
  },
  "language_info": {
   "codemirror_mode": {
    "name": "ipython",
    "version": 3
   },
   "file_extension": ".py",
   "mimetype": "text/x-python",
   "name": "python",
   "nbconvert_exporter": "python",
   "pygments_lexer": "ipython3",
   "version": "3.12.4"
  }
 },
 "nbformat": 4,
 "nbformat_minor": 2
}
