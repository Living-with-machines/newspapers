{
 "cells": [
  {
   "cell_type": "markdown",
   "metadata": {},
   "source": [
    "# Toponym Resolution with T-Res\n",
    "\n",
    "This notebook demonstrates the use of the T-Res HTTP API for performing toponym resolution.\n",
    "\n",
    "Toponym resolution refers to the task of identifying place names (toponyms) in a piece of text and linking each of them to a known physical location.\n",
    "\n",
    "This process involves three distinct steps:\n",
    " 1. **named entity recognition** to identify which characters in the text are in fact toponyms\n",
    " 1. **candidate selection** to generate a list of candidate places within a knowledge base\n",
    " 1. **entity linking** to determine which candidate place is the best match for the given toponym\n",
    "\n",
    "[T-Res](https://github.com/Living-with-machines/T-Res) is a software tool that provides an end-to-end pipeline for toponym resolution, using [Wikidata](https://www.wikidata.org/wiki/Wikidata:Main_Page) as its knowledge base.\n",
    "\n",
    "The T-Res HTTP API enables users to make toponym resolution queries to a remote server via an HTTP connection.\n",
    "\n",
    "To run the examples in this notebook a server must be available to handle the API requests. During the workshop, such a server will be provided with the host IP address given below.\n",
    "\n",
    "Technical documentation on T-Res can be found [here](https://living-with-machines.github.io/T-Res/index.html). Developers may also find the [API docs](http://20.0.184.45:8000/v2/t-res_deezy_reldisamb-wpubl-wmtops/docs) useful."
   ]
  },
  {
   "cell_type": "markdown",
   "metadata": {},
   "source": [
    "## Setup\n",
    "\n",
    "Let's begin by importing some Python libraries:"
   ]
  },
  {
   "cell_type": "code",
   "execution_count": 196,
   "metadata": {},
   "outputs": [],
   "source": [
    "import requests\n",
    "import operator\n",
    "from typing import Optional\n",
    "from dataclasses import dataclass\n",
    "from dacite import from_dict"
   ]
  },
  {
   "cell_type": "markdown",
   "metadata": {},
   "source": [
    "Next, we specify the hostname and URL for connecting to the server running the T-Res API:"
   ]
  },
  {
   "cell_type": "code",
   "execution_count": 197,
   "metadata": {},
   "outputs": [],
   "source": [
    "HOST = \"20.0.184.45\"\n",
    "API_URL = f\"http://{HOST}:8000/v2/t-res_deezy_reldisamb-wpubl-wmtops\""
   ]
  },
  {
   "cell_type": "markdown",
   "metadata": {},
   "source": [
    "The following Helper functions will make it easy to call the T-Res API and handle the response:"
   ]
  },
  {
   "cell_type": "code",
   "execution_count": 198,
   "metadata": {},
   "outputs": [],
   "source": [
    "@dataclass\n",
    "class Toponym:\n",
    "    mention: str\n",
    "    sentence: str\n",
    "    pos: int\n",
    "    end_pos: int\n",
    "    tag: str\n",
    "    prediction: str\n",
    "    cross_cand_score: dict\n",
    "    latlon: Optional[list]\n",
    "    wkdt_class: Optional[str]\n",
    "    string_match_score: dict\n",
    "    \n",
    "    def __str__(self):\n",
    "        toponym = self.toponym()\n",
    "        s = f\"Toponym:\\t{toponym}\"\n",
    "        if self.mention != toponym:\n",
    "            s += f\"\\nMention:\\t{self.mention}\"\n",
    "        if self.tag != 'LOC':\n",
    "            s += f\"\\nTag:\\t\\t{self.tag}\"\n",
    "        s += f\"\\nWikidata ID:\\t{self.prediction}\"\n",
    "        s += f\"\\nCoordinates:\\t{self.latlon}\"\n",
    "        if self.prediction in self.cross_cand_score.keys():\n",
    "            s += f\"\\nLinking score:\\t{self.cross_cand_score[self.prediction]}\"\n",
    "        return s\n",
    "\n",
    "    def __repr__(self):\n",
    "        return self.__str__()\n",
    "    \n",
    "    def toponym(self):\n",
    "        if not self.string_match_score:\n",
    "            return None\n",
    "        # Identify the best string match.\n",
    "        d = {i[0]: i[1][0] for i in self.string_match_score.items()}\n",
    "        return max(d.items(), key=operator.itemgetter(1))[0]\n",
    "\n",
    "class Toponyms:\n",
    "    toponyms: list\n",
    "\n",
    "    def __init__(self, data):\n",
    "        if not isinstance(data, list):\n",
    "            raise ValueError(\"Toponyms data must be a list.\")\n",
    "        self.toponyms = [from_dict(data_class=Toponym, data=t) for t in data]\n",
    "\n",
    "    def __str__(self):\n",
    "        if not self.toponyms:\n",
    "            return \"Empty list of toponyms.\"\n",
    "        return '\\n\\n'.join([t.__str__() for t in self.toponyms])\n",
    "\n",
    "    def __repr__(self):\n",
    "        return self.__str__()\n",
    "\n",
    "def validate_query(query):\n",
    "    if not \"text\" in query.keys():\n",
    "        raise ValueError(\"T-Res API query must contain an item named `text`\")\n",
    "    return\n",
    "\n",
    "def call_api(query, parse = True):\n",
    "    validate_query(query)\n",
    "    response = requests.get(f'{API_URL}/toponym_resolution', json=query)\n",
    "    if not parse:\n",
    "        return response\n",
    "    return parse_api_response(response)\n",
    "\n",
    "def parse_api_response(response):\n",
    "    if response.status_code != 200:\n",
    "        print(f\"HTTP error code: {response.status_code}\")\n",
    "        print(f\"Reason: {response.reason}\")\n",
    "    result = Toponyms(response.json())\n",
    "    if len(result.toponyms) == 1:\n",
    "        return result.toponyms[0]\n",
    "    return result"
   ]
  },
  {
   "cell_type": "markdown",
   "metadata": {},
   "source": [
    "## Toponym resolution examples\n",
    "\n",
    "We're now ready to query the API by sending chunks of input text."
   ]
  },
  {
   "cell_type": "markdown",
   "metadata": {},
   "source": [
    "### Simple toponym resolution example"
   ]
  },
  {
   "cell_type": "markdown",
   "metadata": {},
   "source": [
    "### Example with place of publication information"
   ]
  },
  {
   "cell_type": "code",
   "execution_count": null,
   "metadata": {},
   "outputs": [],
   "source": [
    "query = {\n",
    "        \"text\": \"A remarkable case of rattening has just occurred in the building trade at Newtown.\",\n",
    "        \"place\": \"Powys\",\n",
    "        \"place_wqid\": \"Q156150\"\n",
    "        }\n",
    "call_api(query)"
   ]
  },
  {
   "cell_type": "markdown",
   "metadata": {},
   "source": [
    "### Example of successful linking despite OCR error"
   ]
  },
  {
   "cell_type": "code",
   "execution_count": null,
   "metadata": {},
   "outputs": [],
   "source": [
    "query = {\"text\": \"A remarkable case of rattening has just occurred in the building trade at Shefiield.\"}\n",
    "call_api(query)"
   ]
  },
  {
   "cell_type": "markdown",
   "metadata": {},
   "source": [
    "### Example with multiple toponyms"
   ]
  },
  {
   "cell_type": "code",
   "execution_count": null,
   "metadata": {},
   "outputs": [],
   "source": [
    "query = {\"text\": \"A remarkable case of rattening has just occurred in the building trade at Shefiield, but also in Leeds. Not in London though.\"}\n",
    "call_api(query)"
   ]
  },
  {
   "cell_type": "markdown",
   "metadata": {},
   "source": [
    "### Example of a toponym referring to a particular building\n",
    "\n",
    "Toponyms in T-Res are labelled with a \"Tag\" property, referring to the type of the named entity.\n",
    "\n",
    "The most common tag is \"LOC\" (for location) but if the best match is a specific building, as in the following example, this will be reflected in the \"Tag\":"
   ]
  },
  {
   "cell_type": "code",
   "execution_count": null,
   "metadata": {},
   "outputs": [],
   "source": [
    "query = {\"text\": \"A large crowd gathered, and plenty of volunteers aided in the work of rescue, whilst ambulances and stretchers were fetched from the Middlesex Hospital.\"}\n",
    "call_api(query)"
   ]
  },
  {
   "cell_type": "markdown",
   "metadata": {},
   "source": [
    "### Example of place linking error"
   ]
  },
  {
   "cell_type": "code",
   "execution_count": null,
   "metadata": {},
   "outputs": [],
   "source": [
    "query = {\n",
    "    \"text\": \"Early on Monday morning a fire was discovered ois the premises of Mr. .Toseph Boyle, woollen manufacturer, Prospect Mill, at Longwood, near Huddersfield, and before the flames could be extinguished they had done damage to the extent of about ¬£16,000 or ¬£17,000.\",\n",
    "    \"place\": \"Stourbridge, West Midlands, England\",\n",
    "    \"place_wqid\": \"Q661707\"\n",
    "    }\n",
    "call_api(query)"
   ]
  }
 ],
 "metadata": {
  "kernelspec": {
   "display_name": "htop",
   "language": "python",
   "name": "htop"
  },
  "language_info": {
   "codemirror_mode": {
    "name": "ipython",
    "version": 3
   },
   "file_extension": ".py",
   "mimetype": "text/x-python",
   "name": "python",
   "nbconvert_exporter": "python",
   "pygments_lexer": "ipython3",
   "version": "3.12.4"
  }
 },
 "nbformat": 4,
 "nbformat_minor": 2
}
