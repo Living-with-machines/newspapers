{
  "cells": [
    {
      "cell_type": "markdown",
      "metadata": {
        "id": "TagovOvPfZbs"
      },
      "source": [
        "# Data/Culture Workshop, Lancaster\n",
        "## Content Analysis of Historical Newspapers\n"
      ]
    },
    {
      "cell_type": "code",
      "execution_count": null,
      "metadata": {
        "id": "rlKKE6oRPDbo"
      },
      "outputs": [],
      "source": [
        "# let's just turn of\n",
        "import warnings\n",
        "warnings.filterwarnings('ignore')"
      ]
    },
    {
      "cell_type": "markdown",
      "metadata": {
        "id": "QavOGMu0O3J8"
      },
      "source": [
        "# OCR quality\n",
        "\n",
        "In this notebook, we have a closer look at exploring newspaper content. But before we do that, let's have a look at the quality of the text data.\n",
        "\n",
        "A major hurdle for analysing the historical press, is the sometimes awful quality of the automatic text transcription, using Optical Character Recognition (OCR) software, which converts images to machine-readable text.\n",
        "\n",
        "And here ```m4n y th**in^gs can go wrong!```\n",
        "\n",
        "So before analysing/reading our sources, we should determine what is readable and how data quality might impact our findings.\n",
        "\n",
        "In this notebook, we investigate if the OCR errors are truly randomly distributed or more skewed towards certain categories of newspapers. This could inform how we read our findings later on."
      ]
    },
    {
      "cell_type": "code",
      "execution_count": null,
      "metadata": {
        "id": "T9xo1rc0cYEw"
      },
      "outputs": [],
      "source": [
        "# We need to import the pandas library for working with spreadsheet\n",
        "import pandas as pd\n",
        "import re # another library for matching patterns in text\n",
        "import plotly.express as px\n",
        "import numpy as np\n",
        "import seaborn as sns # import seaborn for making plots a bit prettier\n",
        "import matplotlib.pyplot as plt\n",
        "sns.set()"
      ]
    },
    {
      "cell_type": "code",
      "execution_count": null,
      "metadata": {
        "id": "QocF9iPZd4qZ"
      },
      "outputs": [],
      "source": [
        "# load the dataframe from github\n",
        "df = pd.read_csv(\"https://raw.githubusercontent.com/kasparvonbeelen/lancaster-newspaper-workshop/wc/data/subsample500mixedocr-selected_mitch.csv\")\n",
        "# for convenience we drop rows that have nan (not a number values)\n",
        "# otherwise some of the scripts and operation might crash\n",
        "df.dropna(inplace=True)"
      ]
    },
    {
      "cell_type": "markdown",
      "metadata": {
        "id": "z4p76cdQCV7g"
      },
      "source": [
        "We can print the first n-rows to get a sense of the information available to us."
      ]
    },
    {
      "cell_type": "code",
      "execution_count": null,
      "metadata": {
        "id": "V9_6lOM2k8YB"
      },
      "outputs": [],
      "source": [
        "df.head(3)"
      ]
    },
    {
      "cell_type": "markdown",
      "metadata": {
        "id": "fDbSS160B-Os"
      },
      "source": [
        "### Scatter plots\n",
        "\n",
        "The most 'direct' way to interrogate data is to look at scatterplots."
      ]
    },
    {
      "cell_type": "code",
      "execution_count": null,
      "metadata": {
        "id": "Wf_ObKJ1O2n6"
      },
      "outputs": [],
      "source": [
        "fig = px.scatter(df,\n",
        "                 x=\"word_count\",\n",
        "                 y=\"ocrquality\",\n",
        "                 color=\"political_leaning_label\",\n",
        "                 hover_data=['date','newspaper_title',\"political_leaning_label\", \"price_label\"],\n",
        "                 trendline_scope=\"overall\",\n",
        "                 trendline=\"ols\",\n",
        "                 width=1000, height=500,\n",
        "                 )\n",
        "fig.update_layout(showlegend=True)\n",
        "fig.show()"
      ]
    },
    {
      "cell_type": "markdown",
      "metadata": {
        "id": "Jf_qnwhICj4i"
      },
      "source": [
        "### Log-scale\n",
        "\n",
        "\n",
        "A common technique to declutter the visualisation is to use a log-scale, this will make a small difference bigger and a big difference smaller."
      ]
    },
    {
      "cell_type": "code",
      "execution_count": null,
      "metadata": {
        "id": "N_SATH2lEiE6"
      },
      "outputs": [],
      "source": [
        "print(np.log([1, 5]))\n",
        "print(np.log([100,1000]))"
      ]
    },
    {
      "cell_type": "code",
      "execution_count": null,
      "metadata": {
        "id": "T3ZerVkSPxsI"
      },
      "outputs": [],
      "source": [
        "df = df[(df.ocrquality > 0) & (df.word_count > 0)]\n",
        "df['word_count_log'] = np.log(df['word_count'] )\n",
        "fig = px.scatter(df,\n",
        "                 x=\"word_count_log\",\n",
        "                 y=\"ocrquality\",\n",
        "                 color=\"political_leaning_label\",\n",
        "                 hover_data=['date','newspaper_title',\"political_leaning_label\", \"price_label\"],\n",
        "                 trendline_scope=\"overall\",\n",
        "                 trendline=\"ols\",\n",
        "                 width=1000, height=500,\n",
        "                 )\n",
        "fig.update_layout(showlegend=True)\n",
        "fig.show()"
      ]
    },
    {
      "cell_type": "markdown",
      "metadata": {
        "id": "U2DxcVuWHjH-"
      },
      "source": [
        "### Exercise\n",
        "\n",
        "Plot the OCR quality over time using a scatter plot."
      ]
    },
    {
      "cell_type": "code",
      "execution_count": null,
      "metadata": {
        "id": "Tx6bmZ0ZE48-"
      },
      "outputs": [],
      "source": [
        "# enter code here"
      ]
    },
    {
      "cell_type": "markdown",
      "metadata": {
        "id": "hR7dT5rMIBRr"
      },
      "source": [
        "### Other plotting options\n",
        "\n",
        "We can visualize distributions as histograms or density plots."
      ]
    },
    {
      "cell_type": "code",
      "execution_count": null,
      "metadata": {
        "id": "SuRzaCPxIKab"
      },
      "outputs": [],
      "source": [
        "df[df.political_leaning_label.isin(['conservative','liberal'])].groupby(['political_leaning_label'])['ocrquality'].plot(kind='hist', bins=100, alpha=.6)"
      ]
    },
    {
      "cell_type": "code",
      "execution_count": null,
      "metadata": {
        "id": "KmWjIPvXQWNQ"
      },
      "outputs": [],
      "source": [
        "df[df.political_leaning_label.isin(['conservative','liberal'])].groupby(['political_leaning_label'])['ocrquality'].plot(kind='density')"
      ]
    },
    {
      "cell_type": "markdown",
      "metadata": {
        "id": "-2HxcoqxS1ya"
      },
      "source": [
        "### Exercise\n",
        "\n",
        "Is the OCR of the halfpenny press (½ d) worse than the papers priced at 1d? For the exercise, ignore all other newspapers outside of these price points."
      ]
    },
    {
      "cell_type": "code",
      "execution_count": null,
      "metadata": {
        "id": "aQ9Z9C7Xd8KM"
      },
      "outputs": [],
      "source": [
        "df.price_label.value_counts()"
      ]
    },
    {
      "cell_type": "code",
      "execution_count": null,
      "metadata": {
        "id": "jtKRSsw1dahx"
      },
      "outputs": [],
      "source": [
        "# enter your answer here, adapt the previous line of code df[df.political_leaning_label."
      ]
    },
    {
      "cell_type": "markdown",
      "metadata": {
        "id": "OcgCfYq2PKUc"
      },
      "source": [
        "\n",
        "# Content Analysis"
      ]
    },
    {
      "cell_type": "markdown",
      "metadata": {
        "id": "0tntDECfhlvu"
      },
      "source": [
        "##  Counting Words with Regular Expressions"
      ]
    },
    {
      "cell_type": "markdown",
      "metadata": {
        "id": "fv5mAhYui0vZ"
      },
      "source": [
        "Regular expressions offer a convenient tool to explore content by searching and investigating the occurrence of specific patterns in the corpus.\n",
        "\n",
        "Below we construct a regular expression in which we aim to capture multiple words (and variants) at once.\n",
        "\n",
        "In abstract terms, the regex follows the format:\n",
        "`\"\\b(query_1|query_2|...|query_n)\\b\"`\n",
        "\n",
        "- `\\b` indicates a word break, which can be a white space or interpunction symbol\n",
        "- `|` indicates OR, i.e. we want to find any of the queried items\n",
        "- `s?` ensures we include plural forms\n",
        "\n",
        "In Python, we first formulate the regex as a 'raw' string (a string prefixed by `r`' and then compile it, where add extra flags, in this `re.I` ignoring the difference between upper and lower case)"
      ]
    },
    {
      "cell_type": "code",
      "execution_count": null,
      "metadata": {
        "id": "U4DD4cCkhufb"
      },
      "outputs": [],
      "source": [
        "# define the regular expression\n",
        "regex = r\"\\b(trains?|rails?)\\b\"\n",
        "# compile the regex use an ignore case flag\n",
        "# i.e. we will ignore uppercase\n",
        "pattern = re.compile(regex, re.I)"
      ]
    },
    {
      "cell_type": "code",
      "execution_count": null,
      "metadata": {
        "id": "Ax7vTku5jsxH"
      },
      "outputs": [],
      "source": [
        "# test the regex on a particular example\n",
        "example_text = 'I took to trAin from Euston to Lancaster, but thetrain was delayed because there were leaves on the rails!'\n",
        "pattern.findall(example_text)"
      ]
    },
    {
      "cell_type": "markdown",
      "metadata": {
        "id": "DJoPSmnTkPNF"
      },
      "source": [
        "Instead of applying the regex to one example, we can apply it to all items in the `text` column of our dataframe. For this, we need to apply the `.apply` method (what's in a name!) to the text column.\n",
        "\n",
        "What does this operation return? For each row, it will return words that match our query regex, or return an empty list (or `[]`) in case we do not find anything!\n",
        "\n",
        "In the code cell below, we apply the regex to all items in our dataframe."
      ]
    },
    {
      "cell_type": "code",
      "execution_count": null,
      "metadata": {
        "id": "1rOoCwJOfLMs"
      },
      "outputs": [],
      "source": [
        "df['text'].apply(pattern.findall)"
      ]
    },
    {
      "cell_type": "markdown",
      "metadata": {
        "id": "xXwMmKC2nWwO"
      },
      "source": [
        "Of course, we want to store the result of the `pattern.findall` operation and add the query results as a new column to the dataframe. In `pandas` this is relatively straightforward and resembles the variable assignment operation.\n",
        "\n",
        "After saving the results in a new column, we can keep track of the number of matched items in the text (and the corpus). These results are stored in the `num_hits` column."
      ]
    },
    {
      "cell_type": "code",
      "execution_count": null,
      "metadata": {
        "id": "BhTSSXupfXDG"
      },
      "outputs": [],
      "source": [
        "df['hits'] = df['text'].apply(pattern.findall) # safe the query results in a new column\n",
        "df['num_hits'] = df['hits'].apply(len) # count the number of items found"
      ]
    },
    {
      "cell_type": "code",
      "execution_count": null,
      "metadata": {
        "id": "kWehtDs_lnys"
      },
      "outputs": [],
      "source": [
        "df['num_hits'].value_counts() # get the distribution of hits"
      ]
    },
    {
      "cell_type": "code",
      "execution_count": null,
      "metadata": {
        "id": "85zJpk30ltVJ"
      },
      "outputs": [],
      "source": [
        "df['num_hits'].value_counts().plot(kind='bar') # plot the distribution as a bar chart"
      ]
    },
    {
      "cell_type": "markdown",
      "metadata": {
        "id": "pO_AWMpBpjPR"
      },
      "source": [
        "We can inspect the result of the `findall` operation more closely, and zoom in on the examples where we encounter more than one hit. We use `df.num_hits > 0` as a filter to select only rows with contain at least one mention of 'train' or 'rails'."
      ]
    },
    {
      "cell_type": "code",
      "execution_count": null,
      "metadata": {
        "id": "-SX3kIYWl4_6"
      },
      "outputs": [],
      "source": [
        "df_with_hits = df[df.num_hits > 0].reset_index()\n",
        "df_with_hits[['hits','text']]"
      ]
    },
    {
      "cell_type": "markdown",
      "metadata": {
        "id": "vasIl0p0Rarh"
      },
      "source": [
        "We print the full content of the 4th text."
      ]
    },
    {
      "cell_type": "code",
      "execution_count": null,
      "metadata": {
        "id": "NX_W9DrJrZ5L"
      },
      "outputs": [],
      "source": [
        "print(df_with_hits.iloc[4][['hits','text']].text)"
      ]
    },
    {
      "cell_type": "markdown",
      "metadata": {
        "id": "ZycKdYVJRTsy"
      },
      "source": [
        "### Exercise\n",
        "\n",
        "Print the content of the 7th text."
      ]
    },
    {
      "cell_type": "code",
      "execution_count": null,
      "metadata": {
        "id": "Zg5_NE-uVf4Y"
      },
      "outputs": [],
      "source": [
        "# enter code here"
      ]
    },
    {
      "cell_type": "markdown",
      "metadata": {
        "id": "yeX4UzJmprxf"
      },
      "source": [
        "### Exercise\n",
        "\n",
        "Let's explore a bit larger collection text, where we have 10.000 articles to play with. Then, search the newspaper dataframe for two (or more!) words of choice."
      ]
    },
    {
      "cell_type": "code",
      "execution_count": 5,
      "metadata": {
        "id": "Nxm6g9qHsDtC"
      },
      "outputs": [],
      "source": [
        "# we download a larger sample of newspaper data\n",
        "# with approx 10_000 articles per year\n",
        "!wget -q --show-progress https://github.com/kasparvonbeelen/lancaster-newspaper-workshop/raw/wc/data/sample_lwm_hmd_mt90_10000.csv.zip\n",
        "# unzip the downloaded sample\n",
        "!unzip -o sample_lwm_hmd_mt90_10000.csv.zip\n",
        "!rm -r __MACOSX"
      ]
    },
    {
      "cell_type": "code",
      "execution_count": 6,
      "metadata": {
        "id": "v_scaGkCsRBO"
      },
      "outputs": [],
      "source": [
        "import pandas as pd\n",
        "df = pd.read_csv('sample_lwm_hmd_mt90_10000.csv')\n",
        "df.shape"
      ]
    },
    {
      "cell_type": "markdown",
      "metadata": {
        "id": "WAKH5edep1a6"
      },
      "source": [
        "#### Easy version\n",
        "\n",
        "Select query terms and see how often these appear in the corpus."
      ]
    },
    {
      "cell_type": "code",
      "execution_count": null,
      "metadata": {
        "id": "C90Pj_tDp3wg"
      },
      "outputs": [],
      "source": [
        "query_1 = '' # add a query term between the quotation marks\n",
        "query_2 = '' # add a query term between the quotation marks\n",
        "\n",
        "regex = rf\"\\b({query_1}|{query_2})\\b\"\n",
        "# compile the regex use an ignore case flag\n",
        "# i.e. we will ignore uppercase\n",
        "pattern = re.compile(regex, re.I) # compile\n",
        "df['hits'] = df['text'].apply(pattern.findall) # safe the query results in a new column\n",
        "df['num_hits'] = df['hits'].apply(len) # count the number of items found\n",
        "df['num_hits'].value_counts()"
      ]
    },
    {
      "cell_type": "markdown",
      "metadata": {
        "id": "kLfP54Xkp6qv"
      },
      "source": [
        "#### Advanced version\n",
        "\n",
        "- Define a new regular expression that queries the corpus for at least 2 words.\n",
        "- Look at the previous examples and adapt the code to plot the distribution of the hits.\n"
      ]
    },
    {
      "cell_type": "code",
      "execution_count": null,
      "metadata": {
        "id": "APGY6rlGp_Rd"
      },
      "outputs": [],
      "source": [
        "regex = ''\n",
        "pattern = re.compile(regex, re.I) # compile\n",
        "df['hits'] = df['text'].apply\n",
        "= df['hits'].apply(len)\n",
        "# plot the distribution of hits"
      ]
    },
    {
      "cell_type": "markdown",
      "metadata": {
        "id": "VdDCaO5Fs0Q6"
      },
      "source": [
        "# Text and Metadata\n",
        "\n",
        "Simply counting how often certain items appear is not that interesting. To use newspaper archives for making historical arguments, we often rely on metadata. More precisely, studying the relation between metadata and full-text content is where things get interesting historically.\n",
        "\n",
        "Below we have a closer (and practical) look at some examples.\n"
      ]
    },
    {
      "cell_type": "markdown",
      "metadata": {
        "id": "HHmc-lNvW71k"
      },
      "source": [
        "The code below repeats the regex-based search operations we discussed previously."
      ]
    },
    {
      "cell_type": "code",
      "execution_count": null,
      "metadata": {
        "id": "mER8GFBtDmwb"
      },
      "outputs": [],
      "source": [
        "df = pd.read_csv(\"https://raw.githubusercontent.com/kasparvonbeelen/lancaster-newspaper-workshop/wc/data/subsample500mixedocr-selected_mitch.csv\")\n",
        "df.dropna(inplace=True)\n",
        "\n",
        "# define the regular expression\n",
        "regex = r\"\\b(trains?|rails?)\\b\"\n",
        "# compile the regex use an ignore case flag\n",
        "# i.e. we will ignore uppercase\n",
        "pattern = re.compile(regex, re.I)\n",
        "df['hits'] = df['text'].apply(pattern.findall) # safe the query results in a new column\n",
        "df['num_hits'] = df['hits'].apply(len) # count the number of items found\n"
      ]
    },
    {
      "cell_type": "markdown",
      "metadata": {
        "id": "wzQ2tld9WdL4"
      },
      "source": [
        "## Timelines\n",
        "\n",
        "We group the results by year and count how often we encounter 'trains' in historical newspapers over the nineteenth century.\n",
        "\n",
        "### Questions\n",
        "\n",
        "- What is shown in the timeline below?\n",
        "- And how could it be misleading?"
      ]
    },
    {
      "cell_type": "code",
      "execution_count": null,
      "metadata": {
        "id": "QaCn5wxGs288"
      },
      "outputs": [],
      "source": [
        "df.groupby('year')['num_hits'].count().plot()"
      ]
    },
    {
      "cell_type": "markdown",
      "metadata": {
        "id": "mjzgZUjRXwqG"
      },
      "source": [
        "To investigate change over time, we need to 'normalize' results by year, to make the results comparable. One way of doing this is to divide the number of hits, by the total number of words.\n",
        "\n",
        "As seen previously, we can use `.split()` to divide the string by white spaces, and then count the number of 'words'*\n",
        "\n",
        "*or a proxy to the number of words."
      ]
    },
    {
      "cell_type": "code",
      "execution_count": null,
      "metadata": {
        "id": "uC7LeGbJs8cA"
      },
      "outputs": [],
      "source": [
        "an_example_text = \"This sentence has 5 words.\"\n",
        "words = an_example_text.split()\n",
        "print(words)\n",
        "num_words = len(words)\n",
        "print(num_words)"
      ]
    },
    {
      "cell_type": "code",
      "execution_count": null,
      "metadata": {
        "id": "KBEknO4BtdIt"
      },
      "outputs": [],
      "source": [
        "sentence = \"This sentence has 5 words.\"\n",
        "len(sentence.split())"
      ]
    },
    {
      "cell_type": "markdown",
      "metadata": {
        "id": "gj0VyKWpY3lq"
      },
      "source": [
        "Below we inspect the distribution of the document lengths using a histogram..."
      ]
    },
    {
      "cell_type": "code",
      "execution_count": null,
      "metadata": {
        "id": "rg8yCZBJtk5T"
      },
      "outputs": [],
      "source": [
        "df['num_words'] = df['text'].apply(lambda x: len(x.split()))\n",
        "df['num_words'].plot(kind='hist')"
      ]
    },
    {
      "cell_type": "markdown",
      "metadata": {
        "id": "de-vB852Y_UG"
      },
      "source": [
        "... Or plot the number of words by year."
      ]
    },
    {
      "cell_type": "code",
      "execution_count": null,
      "metadata": {
        "id": "dD_lHPyQwXsx"
      },
      "outputs": [],
      "source": [
        "df.groupby('year')['num_words'].sum().plot()"
      ]
    },
    {
      "cell_type": "markdown",
      "metadata": {
        "id": "wUBd0Np-vYmn"
      },
      "source": [
        "We can use these total counts to plot a timeline that shows the prevalence of a topic while accounting for the changes in corpus size.\n",
        "\n",
        "To do this, we sum the number of hits and divide this by the total number of words for each year."
      ]
    },
    {
      "cell_type": "code",
      "execution_count": null,
      "metadata": {
        "id": "qPbM-s47uEGB"
      },
      "outputs": [],
      "source": [
        "df_grouped = df.groupby('year').apply(lambda x: x['num_hits'].sum() / x['num_words'].sum())\n",
        "df_grouped.plot()"
      ]
    },
    {
      "cell_type": "markdown",
      "metadata": {
        "id": "nofKXpB9aMLR"
      },
      "source": [
        "What might be confusing about the plot is that they (kind of) point in different directions. Should we believe the 'raw' counts or the normalized frequencies?\n",
        "\n",
        "The short answer is that both are not reliable. Even though we imagine observing trends, we don't have enough data in this case to make any claims about historical change.\n",
        "\n",
        "Why do I think this is the case?"
      ]
    },
    {
      "cell_type": "markdown",
      "metadata": {
        "id": "_AvbOemEb4H0"
      },
      "source": [
        "We can plot the relative number of hits with confidence intervals (using the `seaborn` library)."
      ]
    },
    {
      "cell_type": "code",
      "execution_count": null,
      "metadata": {
        "id": "Mjv1ZSqxvjtT"
      },
      "outputs": [],
      "source": [
        "df['ratio'] = df['num_hits'] /  df['num_words']\n",
        "sns.lineplot(x='year',y='ratio', data=df)"
      ]
    },
    {
      "cell_type": "markdown",
      "metadata": {
        "id": "uLUhlU5hceaC"
      },
      "source": [
        "## Intermezzo: Understanding confidence intervals"
      ]
    },
    {
      "cell_type": "code",
      "execution_count": null,
      "metadata": {
        "id": "hACiox1Knfry"
      },
      "outputs": [],
      "source": [
        "from random import shuffle, random\n",
        "scores = [random() for _ in range(100)]\n",
        "scores[:3]"
      ]
    },
    {
      "cell_type": "code",
      "execution_count": null,
      "metadata": {
        "id": "nc5ZaY3edM97"
      },
      "outputs": [],
      "source": [
        "print(np.mean(scores))"
      ]
    },
    {
      "cell_type": "code",
      "execution_count": null,
      "metadata": {
        "id": "H8fnYKZooxDb"
      },
      "outputs": [],
      "source": [
        "size = 20\n",
        "n_trials = 100\n",
        "means = []\n",
        "for _ in range(n_trials):\n",
        "  shuffle(scores)\n",
        "  means.append(sum(scores[:size]) / size)\n",
        "ax = pd.Series(means).plot(kind='density')\n",
        "ax.axvline(sum(scores)/len(scores), color=\"black\", linestyle=\"dashed\")"
      ]
    },
    {
      "cell_type": "code",
      "execution_count": null,
      "metadata": {
        "id": "wRGKaEqbq3Fz"
      },
      "outputs": [],
      "source": [
        "percentiles = np.percentile(means,q=[5.,95.])\n",
        "ax = pd.Series(means).plot(kind='density')\n",
        "ax.axvline(sum(scores)/len(scores), color=\"black\", linestyle=\"dashed\")\n",
        "ax.axvline(percentiles[0], color=\"red\", linestyle=\"dashed\")\n",
        "ax.axvline(percentiles[1], color=\"red\", linestyle=\"dashed\")"
      ]
    },
    {
      "cell_type": "markdown",
      "metadata": {
        "id": "DZTKmCGklRWB"
      },
      "source": [
        "## Politics\n",
        "\n"
      ]
    },
    {
      "cell_type": "code",
      "execution_count": null,
      "metadata": {
        "id": "3HKsXiI8lT4e"
      },
      "outputs": [],
      "source": [
        "df.political_leaning_label.unique()"
      ]
    },
    {
      "cell_type": "markdown",
      "metadata": {
        "id": "bkE6Y6lPl0hv"
      },
      "source": [
        "## Guided Exercise: Politics and Language\n",
        "\n",
        "- Create a simplified schema of these political labels that map each of the categories to either 'left', 'right' or 'non-aligned'.\n",
        "- Save the simplified labels in a new column `political_labels_simplified`.\n",
        "- Print the number of hits by political party using the simplified schema.\n",
        "- Visualize the results using a barplot."
      ]
    },
    {
      "cell_type": "code",
      "execution_count": null,
      "metadata": {
        "id": "3-TsBSfqlzMi"
      },
      "outputs": [],
      "source": [
        "## Enter code here\n",
        "\n",
        "## create a mapping\n",
        "\n",
        "## mapping = {'liberal': ...}\n",
        "\n",
        "## apply mapping df[''].replace\n",
        "\n",
        "## use value_counts() to see the number of hits by party\n",
        "sns.barplot(x='political_labels_simplified',y='ratio', data=df)\n",
        "plt.xticks(rotation=70)"
      ]
    },
    {
      "cell_type": "markdown",
      "metadata": {
        "id": "6CaAsnvseWat"
      },
      "source": [
        "#### Solution\n",
        "\n",
        "Uncomment the code below."
      ]
    },
    {
      "cell_type": "code",
      "execution_count": null,
      "metadata": {
        "id": "mwREc27ulXEx"
      },
      "outputs": [],
      "source": [
        "# mapping = {'liberal': 'left',\n",
        "#            'independent': 'non-aligned',\n",
        "#            'neutral': 'non-aligned',\n",
        "#            'constitutional': 'right',\n",
        "#             'liberal; conservative': 'non-aligned',\n",
        "#             'unionist':'right',\n",
        "#             'independent; conservative': 'right',\n",
        "#             'conservative':'right'}"
      ]
    },
    {
      "cell_type": "code",
      "execution_count": null,
      "metadata": {
        "id": "EYKRkEucrzMB"
      },
      "outputs": [],
      "source": [
        "# df['political_labels_simplified'] = df['political_leaning_label'].replace(mapping)\n",
        "# df['political_labels_simplified'].value_counts()"
      ]
    },
    {
      "cell_type": "code",
      "execution_count": null,
      "metadata": {
        "colab": {
          "base_uri": "https://localhost:8080/"
        },
        "id": "EHUk6NmEsWkg",
        "outputId": "a3410e41-05c1-400c-e115-25ab613007c2"
      },
      "outputs": [
        {
          "data": {
            "text/plain": [
              "political_labels_simplified\n",
              "non-aligned    163\n",
              "left           151\n",
              "right          113\n",
              "Name: count, dtype: int64"
            ]
          },
          "execution_count": 211,
          "metadata": {},
          "output_type": "execute_result"
        }
      ],
      "source": [
        "# sns.barplot(x='political_labels_simplified',y='ratio', data=df)\n",
        "# plt.xticks(rotation=70)"
      ]
    },
    {
      "cell_type": "markdown",
      "metadata": {
        "id": "nSakFsMTszjH"
      },
      "source": [
        "## Guided Example: Exploring the periodicity in newspapers\n",
        "\n",
        "Let's now play with a larger dataset and tie together everything we've seen so far. Instead of looking at change over time, we will inspect periodicities in historical newspapers."
      ]
    },
    {
      "cell_type": "code",
      "execution_count": null,
      "metadata": {
        "id": "3urL5falsxtN"
      },
      "outputs": [],
      "source": [
        "# we download a larger sample of newspaper data\n",
        "# with approx 10_000 articles per year\n",
        "!wget -q --show-progress https://github.com/kasparvonbeelen/lancaster-newspaper-workshop/raw/wc/data/sample_lwm_hmd_mt90_10000.csv.zip"
      ]
    },
    {
      "cell_type": "code",
      "execution_count": null,
      "metadata": {
        "id": "f4PvGR4nwvPZ"
      },
      "outputs": [],
      "source": [
        "# unzip the downloaded sample\n",
        "!unzip -o sample_lwm_hmd_mt90_10000.csv.zip\n",
        "!rm -r __MACOSX"
      ]
    },
    {
      "cell_type": "code",
      "execution_count": null,
      "metadata": {
        "id": "CoXQSAJPjPi3"
      },
      "outputs": [],
      "source": [
        "# import required libraries\n",
        "import seaborn as sns\n",
        "import pandas as pd\n",
        "from tqdm import tqdm\n",
        "import re\n",
        "sns.set()"
      ]
    },
    {
      "cell_type": "code",
      "execution_count": null,
      "metadata": {
        "id": "0hwdkVCyglU3"
      },
      "outputs": [],
      "source": [
        "# read the csv file\n",
        "df_large = pd.read_csv('sample_lwm_hmd_mt90_10000.csv')"
      ]
    },
    {
      "cell_type": "code",
      "execution_count": null,
      "metadata": {
        "id": "23i1khCYg4KU"
      },
      "outputs": [],
      "source": [
        "# plot the OCR quality by year\n",
        "sns.lineplot(x='year',y='ocrquality',data=df_large)"
      ]
    },
    {
      "cell_type": "code",
      "execution_count": null,
      "metadata": {
        "id": "GWnSb4ZAjBLw"
      },
      "outputs": [],
      "source": [
        "# plot the OCR quality by month\n",
        "sns.lineplot(x='month',y='ocrquality',data=df_large)"
      ]
    },
    {
      "cell_type": "markdown",
      "metadata": {
        "id": "DXL73kDmgqFK"
      },
      "source": [
        "## Question\n",
        "\n",
        "Is there a significant change in OCR quality over the nineteenth century but not by month?"
      ]
    },
    {
      "cell_type": "code",
      "execution_count": null,
      "metadata": {
        "id": "APH9SI8UjTtN"
      },
      "outputs": [],
      "source": [
        "# compute the number of words for each document\n",
        "df_large['num_words'] = df_large.text.apply(lambda x: len(x.split()))"
      ]
    },
    {
      "cell_type": "code",
      "execution_count": null,
      "metadata": {
        "id": "JezWf22CjiWX"
      },
      "outputs": [],
      "source": [
        "# plot the average document length\n",
        "sns.lineplot(x='year',y='num_words',data=df_large)"
      ]
    },
    {
      "cell_type": "code",
      "execution_count": null,
      "metadata": {
        "id": "jDjrW0Khj3jo"
      },
      "outputs": [],
      "source": [
        "# plot the average document length by month\n",
        "sns.lineplot(x='month',y='num_words',data=df_large)"
      ]
    },
    {
      "cell_type": "code",
      "execution_count": null,
      "metadata": {
        "id": "eC8BfFJmjn17"
      },
      "outputs": [],
      "source": [
        "# search the corpus using a particular regular expression\n",
        "tqdm.pandas() # use tqdm to print a progress bar\n",
        "#pattern = re.compile(r'\\btoo cold\\b', re.I)\n",
        "#pattern = re.compile(r'\\btoo hot\\b', re.I)\n",
        "pattern = re.compile(r'\\bcricket\\b', re.I) # create and compile a regex pattern\n",
        "df_large['matches'] = df_large.text.progress_apply(lambda x: pattern.findall(x)) # apply compile regular expression\n",
        "df_large['num_matches'] = df_large.matches.apply(len) # count number of hits for each document\n",
        "df_large['matches_ratio'] = df_large['num_matches'] / df_large['num_words'] # compute the ratio of hits\n",
        "sns.barplot(x='month',y='matches_ratio',data=df_large) # plot the results with error bars"
      ]
    },
    {
      "cell_type": "markdown",
      "metadata": {
        "id": "_9MBws2GheHJ"
      },
      "source": [
        "# Fin."
      ]
    }
  ],
  "metadata": {
    "colab": {
      "collapsed_sections": [
        "6CaAsnvseWat"
      ],
      "provenance": []
    },
    "kernelspec": {
      "display_name": "Python 3",
      "name": "python3"
    },
    "language_info": {
      "name": "python"
    }
  },
  "nbformat": 4,
  "nbformat_minor": 0
}
